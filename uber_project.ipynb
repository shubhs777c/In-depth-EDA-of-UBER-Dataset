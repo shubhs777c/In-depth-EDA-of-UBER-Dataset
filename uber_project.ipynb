{
  "cells": [
    {
      "cell_type": "markdown",
      "metadata": {
        "id": "view-in-github",
        "colab_type": "text"
      },
      "source": [
        "<a href=\"https://colab.research.google.com/github/shubhs777c/In-depth-EDA-of-UBER-Dataset/blob/main/uber_project.ipynb\" target=\"_parent\"><img src=\"https://colab.research.google.com/assets/colab-badge.svg\" alt=\"Open In Colab\"/></a>"
      ]
    },
    {
      "cell_type": "markdown",
      "source": [
        "# - ## **Exploratory Data Analysis on an Uber Dataset**"
      ],
      "metadata": {
        "id": "elh3MLVp4-5k"
      }
    },
    {
      "cell_type": "markdown",
      "source": [
        "#<b> What is Data Analysis? </b>\n",
        "\n",
        "## Data analysis is the process of examining, cleaning, transforming, and modeling data to extract meaningful insights and information. It involves using statistical techniques and tools to uncover patterns, relationships, and trends in the data. The goal of data analysis is to help individuals and organizations make informed decisions by converting raw data into useful information."
      ],
      "metadata": {
        "id": "adbNz-8_qDcT"
      }
    },
    {
      "cell_type": "markdown",
      "source": [
        "# <b> How EDA helps businesses achieve better decision-making? </b>\n",
        "\n",
        "#### Exploratory Data Analysis (EDA) helps businesses achieve better decision-making by providing valuable insights into the data they have collected. EDA is an iterative process that involves visualizing and summarizing the data in different ways to uncover patterns, relationships, and trends.\n",
        "\n",
        "#### Here's how EDA helps businesses make better decisions:\n",
        "\n",
        "#### 1. <b><u>Identifying Trends</u></b>: EDA allows businesses to identify trends in the data that may not be immediately obvious. This can help them understand their customers, products, and market better.\n",
        "\n",
        "#### 2. <b><u>Spotting Outliers </u></b>: EDA can help businesses identify outliers or anomalies in the data. This is important because outliers can sometimes be indicative of important trends or patterns that would otherwise go unnoticed.\n",
        "\n",
        "#### 3. <b><u> Understanding Relationships </u></b>: EDA allows businesses to understand the relationships between different variables in the data. This can help them make predictions, improve products, and optimize processes.\n",
        "\n",
        "#### 4.  <b><u> Improved Data Quality </u></b>: EDA helps businesses identify and address errors and inconsistencies in the data. This improves the quality of the data and ensures that it can be trusted for decision-making purposes.\n",
        "\n",
        "#### 5. <b><u> Making Data-Driven Decisions </u></b>: By uncovering patterns, trends, and relationships in the data, EDA helps businesses make data-driven decisions. This can lead to more accurate, informed, and effective decision-making compared to relying on intuition or guesswork.\n",
        "\n",
        "#### In short, EDA is an important tool for businesses that want to make better decisions. By providing valuable insights into the data, EDA can help businesses understand their customers, products, and market better, and make more accurate and effective decisions."
      ],
      "metadata": {
        "id": "Kvop5baHtNTf"
      }
    },
    {
      "cell_type": "markdown",
      "source": [
        "# <b> Popular tools to do Analytics </b>\n",
        "\n",
        "- ### **Python**: A high-level programming language with a wide range of libraries for data analysis, including NumPy, Pandas, and Matplotlib.\n",
        "\n",
        "- ### **SQL**: A standard language for managing and manipulating relational databases.\n",
        "\n",
        "- ### **Microsoft Excel**: A widely used spreadsheet program that can be used for basic data analysis, including sorting, filtering, and pivot tables.\n",
        "\n",
        "- ### **Tableau**: A data visualization and business intelligence software that helps users see and understand their data.\n",
        "\n",
        "- ### **PowerBI**: A business intelligence tool that helps organizations visualize data, share insights, and monitor progress.\n",
        "\n",
        "- ### **SAS**: A software suite for advanced analytics, data management, and business intelligence.\n",
        "\n",
        "## <b><u> Product and Core Analytics Stack </b></u>\n",
        "- ### **Google Analytics**: A web analytics service that tracks and reports website traffic.\n",
        "\n",
        "- ### **Mixpanel**: A product analytics platform that helps businesses understand how users interact with their products.\n",
        "\n",
        "- ### **Amplitude**: A product analytics tool that provides actionable insights into user behavior and helps optimize user engagement.\n",
        "\n",
        "- ### **Hotjar**: A product analytics tool that provides heatmaps, session recordings, and other data to help understand how users interact with a product.\n",
        "\n",
        "- ### **Microsoft Clarity** : A product heatmap tool to understand the behavior of users on a website or a web application"
      ],
      "metadata": {
        "id": "DiNInW_KzWgv"
      }
    },
    {
      "cell_type": "markdown",
      "source": [
        "# <b> Uber Case Study </b>"
      ],
      "metadata": {
        "id": "NdycjrBkuaxG"
      }
    },
    {
      "cell_type": "markdown",
      "metadata": {
        "id": "dvt3gPFODuc4"
      },
      "source": [
        "## <u>**First of all, let's understand the business domain**</u>\n",
        "#### Ridesharing is when people use a service to get a ride on short notice. It's a market with a lot of changes in demand based on factors like time, place, weather, and events. The key to success in ridesharing is to be able to understand how demand changes and provide rides when people need them.\n",
        "\n",
        "## <u>**Objective:**</u>\n",
        "#### As a newly hired Data Analyst in you have been given the task of extracting actionable insights from data that will help in the growth of the the business. \n",
        "\n"
      ]
    },
    {
      "cell_type": "markdown",
      "source": [
        "## <u>**Questions the Uber management are asking**</u>\n",
        "### 1. What are the different variables that influence the number of pickups?\n",
        "### 2. Which factor affects the number of pickups the most? What could be the possible reasons for that?\n",
        "### 3. What are your recommendations to Uber management to capitalize on fluctuating demand?"
      ],
      "metadata": {
        "id": "15VtStgJxThr"
      }
    },
    {
      "cell_type": "markdown",
      "source": [
        "## <u> **Well what do we have in the Data?**</u>\n",
        "### The data contains the details for the Uber rides across various boroughs (subdivisions) of New York City at an hourly level and attributes associated with weather conditions at that time.\n",
        "\n",
        "* pickup_dt: Date and time of the pick-up\n",
        "* borough: NYC's borough\n",
        "* pickups: Number of pickups for the period (hourly)\n",
        "* spd: Wind speed in miles/hour\n",
        "* vsb: Visibility in miles to the nearest tenth\n",
        "* temp: Temperature in Fahrenheit\n",
        "* dewp: Dew point in Fahrenheit\n",
        "* slp: Sea level pressure\n",
        "* pcp01: 1-hour liquid precipitation\n",
        "* pcp06: 6-hour liquid precipitation\n",
        "* pcp24: 24-hour liquid precipitation\n",
        "* sd: Snow depth in inches\n",
        "* hday: Being a holiday (Y) or not (N)"
      ],
      "metadata": {
        "id": "2FvOrHRaxXhb"
      }
    },
    {
      "cell_type": "markdown",
      "metadata": {
        "id": "cuFlvhPwCmL3"
      },
      "source": [
        "### **Importing the necessary libraries**"
      ]
    },
    {
      "cell_type": "code",
      "execution_count": 1,
      "metadata": {
        "id": "xwOVK2hbCmL8"
      },
      "outputs": [],
      "source": [
        "# Libraries to help with reading and manipulating data.\n",
        "\n",
        "import numpy as np\n",
        "import pandas as pd\n",
        "\n",
        "# Libraries to help with data visualization\n",
        "\n",
        "import matplotlib.pyplot as plt\n",
        "import seaborn as sns\n",
        "#%matplotlib inline"
      ]
    },
    {
      "cell_type": "markdown",
      "metadata": {
        "id": "ikTvAOfVCmL_"
      },
      "source": [
        "### **Loading the dataset**"
      ]
    },
    {
      "cell_type": "code",
      "source": [
        "from google.colab import drive\n",
        "drive.mount('/content/drive')"
      ],
      "metadata": {
        "colab": {
          "base_uri": "https://localhost:8080/"
        },
        "id": "pZGKy_rgrLqJ",
        "outputId": "87c641ef-cd5a-4555-f8c7-199ef8c75cd6"
      },
      "execution_count": 2,
      "outputs": [
        {
          "output_type": "stream",
          "name": "stdout",
          "text": [
            "Mounted at /content/drive\n"
          ]
        }
      ]
    },
    {
      "cell_type": "code",
      "source": [
        "uber_df = pd.read_csv('/content/drive/MyDrive/project csv files/gp hardik eda masterclass/Uber_Data.csv')\n",
        "\n"
      ],
      "metadata": {
        "id": "wSDkmSOn7OFb"
      },
      "execution_count": 3,
      "outputs": []
    },
    {
      "cell_type": "markdown",
      "source": [
        "# **Look at the first 5 Rows.**"
      ],
      "metadata": {
        "id": "4dBuA3k09kn3"
      }
    },
    {
      "cell_type": "code",
      "source": [
        "uber_df.head()"
      ],
      "metadata": {
        "colab": {
          "base_uri": "https://localhost:8080/",
          "height": 206
        },
        "id": "IlWV6zHt9iW7",
        "outputId": "d13f5ad1-64a1-4d20-81b8-f082cf133fd6"
      },
      "execution_count": 4,
      "outputs": [
        {
          "output_type": "execute_result",
          "data": {
            "text/plain": [
              "          pickup_dt    borough  pickups  spd   vsb  temp  dewp     slp  pcp01  \\\n",
              "0  01-01-2015 01:00      Bronx      152  5.0  10.0  30.0   7.0  1023.5    0.0   \n",
              "1  01-01-2015 01:00   Brooklyn     1519  5.0  10.0   NaN   7.0  1023.5    0.0   \n",
              "2  01-01-2015 01:00        EWR        0  5.0  10.0  30.0   7.0  1023.5    0.0   \n",
              "3  01-01-2015 01:00  Manhattan     5258  5.0  10.0  30.0   7.0  1023.5    0.0   \n",
              "4  01-01-2015 01:00     Queens      405  5.0  10.0  30.0   7.0  1023.5    0.0   \n",
              "\n",
              "   pcp06  pcp24   sd hday  \n",
              "0    0.0    0.0  0.0    Y  \n",
              "1    0.0    0.0  0.0    Y  \n",
              "2    0.0    0.0  0.0    Y  \n",
              "3    0.0    0.0  0.0    Y  \n",
              "4    0.0    0.0  0.0    Y  "
            ],
            "text/html": [
              "\n",
              "  <div id=\"df-de71ac5d-3f4a-47c1-ad77-96df10c01547\">\n",
              "    <div class=\"colab-df-container\">\n",
              "      <div>\n",
              "<style scoped>\n",
              "    .dataframe tbody tr th:only-of-type {\n",
              "        vertical-align: middle;\n",
              "    }\n",
              "\n",
              "    .dataframe tbody tr th {\n",
              "        vertical-align: top;\n",
              "    }\n",
              "\n",
              "    .dataframe thead th {\n",
              "        text-align: right;\n",
              "    }\n",
              "</style>\n",
              "<table border=\"1\" class=\"dataframe\">\n",
              "  <thead>\n",
              "    <tr style=\"text-align: right;\">\n",
              "      <th></th>\n",
              "      <th>pickup_dt</th>\n",
              "      <th>borough</th>\n",
              "      <th>pickups</th>\n",
              "      <th>spd</th>\n",
              "      <th>vsb</th>\n",
              "      <th>temp</th>\n",
              "      <th>dewp</th>\n",
              "      <th>slp</th>\n",
              "      <th>pcp01</th>\n",
              "      <th>pcp06</th>\n",
              "      <th>pcp24</th>\n",
              "      <th>sd</th>\n",
              "      <th>hday</th>\n",
              "    </tr>\n",
              "  </thead>\n",
              "  <tbody>\n",
              "    <tr>\n",
              "      <th>0</th>\n",
              "      <td>01-01-2015 01:00</td>\n",
              "      <td>Bronx</td>\n",
              "      <td>152</td>\n",
              "      <td>5.0</td>\n",
              "      <td>10.0</td>\n",
              "      <td>30.0</td>\n",
              "      <td>7.0</td>\n",
              "      <td>1023.5</td>\n",
              "      <td>0.0</td>\n",
              "      <td>0.0</td>\n",
              "      <td>0.0</td>\n",
              "      <td>0.0</td>\n",
              "      <td>Y</td>\n",
              "    </tr>\n",
              "    <tr>\n",
              "      <th>1</th>\n",
              "      <td>01-01-2015 01:00</td>\n",
              "      <td>Brooklyn</td>\n",
              "      <td>1519</td>\n",
              "      <td>5.0</td>\n",
              "      <td>10.0</td>\n",
              "      <td>NaN</td>\n",
              "      <td>7.0</td>\n",
              "      <td>1023.5</td>\n",
              "      <td>0.0</td>\n",
              "      <td>0.0</td>\n",
              "      <td>0.0</td>\n",
              "      <td>0.0</td>\n",
              "      <td>Y</td>\n",
              "    </tr>\n",
              "    <tr>\n",
              "      <th>2</th>\n",
              "      <td>01-01-2015 01:00</td>\n",
              "      <td>EWR</td>\n",
              "      <td>0</td>\n",
              "      <td>5.0</td>\n",
              "      <td>10.0</td>\n",
              "      <td>30.0</td>\n",
              "      <td>7.0</td>\n",
              "      <td>1023.5</td>\n",
              "      <td>0.0</td>\n",
              "      <td>0.0</td>\n",
              "      <td>0.0</td>\n",
              "      <td>0.0</td>\n",
              "      <td>Y</td>\n",
              "    </tr>\n",
              "    <tr>\n",
              "      <th>3</th>\n",
              "      <td>01-01-2015 01:00</td>\n",
              "      <td>Manhattan</td>\n",
              "      <td>5258</td>\n",
              "      <td>5.0</td>\n",
              "      <td>10.0</td>\n",
              "      <td>30.0</td>\n",
              "      <td>7.0</td>\n",
              "      <td>1023.5</td>\n",
              "      <td>0.0</td>\n",
              "      <td>0.0</td>\n",
              "      <td>0.0</td>\n",
              "      <td>0.0</td>\n",
              "      <td>Y</td>\n",
              "    </tr>\n",
              "    <tr>\n",
              "      <th>4</th>\n",
              "      <td>01-01-2015 01:00</td>\n",
              "      <td>Queens</td>\n",
              "      <td>405</td>\n",
              "      <td>5.0</td>\n",
              "      <td>10.0</td>\n",
              "      <td>30.0</td>\n",
              "      <td>7.0</td>\n",
              "      <td>1023.5</td>\n",
              "      <td>0.0</td>\n",
              "      <td>0.0</td>\n",
              "      <td>0.0</td>\n",
              "      <td>0.0</td>\n",
              "      <td>Y</td>\n",
              "    </tr>\n",
              "  </tbody>\n",
              "</table>\n",
              "</div>\n",
              "      <button class=\"colab-df-convert\" onclick=\"convertToInteractive('df-de71ac5d-3f4a-47c1-ad77-96df10c01547')\"\n",
              "              title=\"Convert this dataframe to an interactive table.\"\n",
              "              style=\"display:none;\">\n",
              "        \n",
              "  <svg xmlns=\"http://www.w3.org/2000/svg\" height=\"24px\"viewBox=\"0 0 24 24\"\n",
              "       width=\"24px\">\n",
              "    <path d=\"M0 0h24v24H0V0z\" fill=\"none\"/>\n",
              "    <path d=\"M18.56 5.44l.94 2.06.94-2.06 2.06-.94-2.06-.94-.94-2.06-.94 2.06-2.06.94zm-11 1L8.5 8.5l.94-2.06 2.06-.94-2.06-.94L8.5 2.5l-.94 2.06-2.06.94zm10 10l.94 2.06.94-2.06 2.06-.94-2.06-.94-.94-2.06-.94 2.06-2.06.94z\"/><path d=\"M17.41 7.96l-1.37-1.37c-.4-.4-.92-.59-1.43-.59-.52 0-1.04.2-1.43.59L10.3 9.45l-7.72 7.72c-.78.78-.78 2.05 0 2.83L4 21.41c.39.39.9.59 1.41.59.51 0 1.02-.2 1.41-.59l7.78-7.78 2.81-2.81c.8-.78.8-2.07 0-2.86zM5.41 20L4 18.59l7.72-7.72 1.47 1.35L5.41 20z\"/>\n",
              "  </svg>\n",
              "      </button>\n",
              "      \n",
              "  <style>\n",
              "    .colab-df-container {\n",
              "      display:flex;\n",
              "      flex-wrap:wrap;\n",
              "      gap: 12px;\n",
              "    }\n",
              "\n",
              "    .colab-df-convert {\n",
              "      background-color: #E8F0FE;\n",
              "      border: none;\n",
              "      border-radius: 50%;\n",
              "      cursor: pointer;\n",
              "      display: none;\n",
              "      fill: #1967D2;\n",
              "      height: 32px;\n",
              "      padding: 0 0 0 0;\n",
              "      width: 32px;\n",
              "    }\n",
              "\n",
              "    .colab-df-convert:hover {\n",
              "      background-color: #E2EBFA;\n",
              "      box-shadow: 0px 1px 2px rgba(60, 64, 67, 0.3), 0px 1px 3px 1px rgba(60, 64, 67, 0.15);\n",
              "      fill: #174EA6;\n",
              "    }\n",
              "\n",
              "    [theme=dark] .colab-df-convert {\n",
              "      background-color: #3B4455;\n",
              "      fill: #D2E3FC;\n",
              "    }\n",
              "\n",
              "    [theme=dark] .colab-df-convert:hover {\n",
              "      background-color: #434B5C;\n",
              "      box-shadow: 0px 1px 3px 1px rgba(0, 0, 0, 0.15);\n",
              "      filter: drop-shadow(0px 1px 2px rgba(0, 0, 0, 0.3));\n",
              "      fill: #FFFFFF;\n",
              "    }\n",
              "  </style>\n",
              "\n",
              "      <script>\n",
              "        const buttonEl =\n",
              "          document.querySelector('#df-de71ac5d-3f4a-47c1-ad77-96df10c01547 button.colab-df-convert');\n",
              "        buttonEl.style.display =\n",
              "          google.colab.kernel.accessAllowed ? 'block' : 'none';\n",
              "\n",
              "        async function convertToInteractive(key) {\n",
              "          const element = document.querySelector('#df-de71ac5d-3f4a-47c1-ad77-96df10c01547');\n",
              "          const dataTable =\n",
              "            await google.colab.kernel.invokeFunction('convertToInteractive',\n",
              "                                                     [key], {});\n",
              "          if (!dataTable) return;\n",
              "\n",
              "          const docLinkHtml = 'Like what you see? Visit the ' +\n",
              "            '<a target=\"_blank\" href=https://colab.research.google.com/notebooks/data_table.ipynb>data table notebook</a>'\n",
              "            + ' to learn more about interactive tables.';\n",
              "          element.innerHTML = '';\n",
              "          dataTable['output_type'] = 'display_data';\n",
              "          await google.colab.output.renderOutput(dataTable, element);\n",
              "          const docLink = document.createElement('div');\n",
              "          docLink.innerHTML = docLinkHtml;\n",
              "          element.appendChild(docLink);\n",
              "        }\n",
              "      </script>\n",
              "    </div>\n",
              "  </div>\n",
              "  "
            ]
          },
          "metadata": {},
          "execution_count": 4
        }
      ]
    },
    {
      "cell_type": "markdown",
      "metadata": {
        "id": "ymfvv11nCmMI"
      },
      "source": [
        "### **Checking the shape of the dataset**"
      ]
    },
    {
      "cell_type": "code",
      "execution_count": 5,
      "metadata": {
        "id": "cF4tL1ZlCmMI",
        "colab": {
          "base_uri": "https://localhost:8080/"
        },
        "outputId": "070f8300-b0d7-4ff4-c4de-73e79a62290d"
      },
      "outputs": [
        {
          "output_type": "execute_result",
          "data": {
            "text/plain": [
              "(29101, 13)"
            ]
          },
          "metadata": {},
          "execution_count": 5
        }
      ],
      "source": [
        "uber_df.shape"
      ]
    },
    {
      "cell_type": "markdown",
      "metadata": {
        "id": "0rwGjIn8CmML"
      },
      "source": [
        "###**Checking the data types of the columns for the dataset**"
      ]
    },
    {
      "cell_type": "code",
      "execution_count": 6,
      "metadata": {
        "id": "VJzNZtiBCmMM",
        "colab": {
          "base_uri": "https://localhost:8080/"
        },
        "outputId": "eaadff59-6982-42ad-93a4-0d8f9e198502"
      },
      "outputs": [
        {
          "output_type": "stream",
          "name": "stdout",
          "text": [
            "<class 'pandas.core.frame.DataFrame'>\n",
            "RangeIndex: 29101 entries, 0 to 29100\n",
            "Data columns (total 13 columns):\n",
            " #   Column     Non-Null Count  Dtype  \n",
            "---  ------     --------------  -----  \n",
            " 0   pickup_dt  29101 non-null  object \n",
            " 1   borough    26058 non-null  object \n",
            " 2   pickups    29101 non-null  int64  \n",
            " 3   spd        29101 non-null  float64\n",
            " 4   vsb        29101 non-null  float64\n",
            " 5   temp       28742 non-null  float64\n",
            " 6   dewp       29101 non-null  float64\n",
            " 7   slp        29101 non-null  float64\n",
            " 8   pcp01      29101 non-null  float64\n",
            " 9   pcp06      29101 non-null  float64\n",
            " 10  pcp24      29101 non-null  float64\n",
            " 11  sd         29101 non-null  float64\n",
            " 12  hday       29101 non-null  object \n",
            "dtypes: float64(9), int64(1), object(3)\n",
            "memory usage: 2.9+ MB\n"
          ]
        }
      ],
      "source": [
        "uber_df.info()\n"
      ]
    },
    {
      "cell_type": "markdown",
      "metadata": {
        "id": "QDaaq4453upr"
      },
      "source": [
        "### **Getting the statistical summary for the dataset**"
      ]
    },
    {
      "cell_type": "code",
      "execution_count": 7,
      "metadata": {
        "id": "n1lUl2IoCmMW",
        "colab": {
          "base_uri": "https://localhost:8080/",
          "height": 300
        },
        "outputId": "12da5d06-e0b8-4dde-a160-369e55ce6231"
      },
      "outputs": [
        {
          "output_type": "execute_result",
          "data": {
            "text/plain": [
              "            pickups           spd           vsb          temp          dewp  \\\n",
              "count  29101.000000  29101.000000  29101.000000  28742.000000  29101.000000   \n",
              "mean     490.215903      5.984924      8.818125     47.900019     30.823065   \n",
              "std      995.649536      3.699007      2.442897     19.798783     21.283444   \n",
              "min        0.000000      0.000000      0.000000      2.000000    -16.000000   \n",
              "25%        1.000000      3.000000      9.100000     32.000000     14.000000   \n",
              "50%       54.000000      6.000000     10.000000     46.500000     30.000000   \n",
              "75%      449.000000      8.000000     10.000000     65.000000     50.000000   \n",
              "max     7883.000000     21.000000     10.000000     89.000000     73.000000   \n",
              "\n",
              "                slp         pcp01         pcp06         pcp24            sd  \n",
              "count  29101.000000  29101.000000  29101.000000  29101.000000  29101.000000  \n",
              "mean    1017.817938      0.003830      0.026129      0.090464      2.529169  \n",
              "std        7.768796      0.018933      0.093125      0.219402      4.520325  \n",
              "min      991.400000      0.000000      0.000000      0.000000      0.000000  \n",
              "25%     1012.500000      0.000000      0.000000      0.000000      0.000000  \n",
              "50%     1018.200000      0.000000      0.000000      0.000000      0.000000  \n",
              "75%     1022.900000      0.000000      0.000000      0.050000      2.958333  \n",
              "max     1043.400000      0.280000      1.240000      2.100000     19.000000  "
            ],
            "text/html": [
              "\n",
              "  <div id=\"df-b43b6504-6fd7-4298-93d3-6ffd102001e4\">\n",
              "    <div class=\"colab-df-container\">\n",
              "      <div>\n",
              "<style scoped>\n",
              "    .dataframe tbody tr th:only-of-type {\n",
              "        vertical-align: middle;\n",
              "    }\n",
              "\n",
              "    .dataframe tbody tr th {\n",
              "        vertical-align: top;\n",
              "    }\n",
              "\n",
              "    .dataframe thead th {\n",
              "        text-align: right;\n",
              "    }\n",
              "</style>\n",
              "<table border=\"1\" class=\"dataframe\">\n",
              "  <thead>\n",
              "    <tr style=\"text-align: right;\">\n",
              "      <th></th>\n",
              "      <th>pickups</th>\n",
              "      <th>spd</th>\n",
              "      <th>vsb</th>\n",
              "      <th>temp</th>\n",
              "      <th>dewp</th>\n",
              "      <th>slp</th>\n",
              "      <th>pcp01</th>\n",
              "      <th>pcp06</th>\n",
              "      <th>pcp24</th>\n",
              "      <th>sd</th>\n",
              "    </tr>\n",
              "  </thead>\n",
              "  <tbody>\n",
              "    <tr>\n",
              "      <th>count</th>\n",
              "      <td>29101.000000</td>\n",
              "      <td>29101.000000</td>\n",
              "      <td>29101.000000</td>\n",
              "      <td>28742.000000</td>\n",
              "      <td>29101.000000</td>\n",
              "      <td>29101.000000</td>\n",
              "      <td>29101.000000</td>\n",
              "      <td>29101.000000</td>\n",
              "      <td>29101.000000</td>\n",
              "      <td>29101.000000</td>\n",
              "    </tr>\n",
              "    <tr>\n",
              "      <th>mean</th>\n",
              "      <td>490.215903</td>\n",
              "      <td>5.984924</td>\n",
              "      <td>8.818125</td>\n",
              "      <td>47.900019</td>\n",
              "      <td>30.823065</td>\n",
              "      <td>1017.817938</td>\n",
              "      <td>0.003830</td>\n",
              "      <td>0.026129</td>\n",
              "      <td>0.090464</td>\n",
              "      <td>2.529169</td>\n",
              "    </tr>\n",
              "    <tr>\n",
              "      <th>std</th>\n",
              "      <td>995.649536</td>\n",
              "      <td>3.699007</td>\n",
              "      <td>2.442897</td>\n",
              "      <td>19.798783</td>\n",
              "      <td>21.283444</td>\n",
              "      <td>7.768796</td>\n",
              "      <td>0.018933</td>\n",
              "      <td>0.093125</td>\n",
              "      <td>0.219402</td>\n",
              "      <td>4.520325</td>\n",
              "    </tr>\n",
              "    <tr>\n",
              "      <th>min</th>\n",
              "      <td>0.000000</td>\n",
              "      <td>0.000000</td>\n",
              "      <td>0.000000</td>\n",
              "      <td>2.000000</td>\n",
              "      <td>-16.000000</td>\n",
              "      <td>991.400000</td>\n",
              "      <td>0.000000</td>\n",
              "      <td>0.000000</td>\n",
              "      <td>0.000000</td>\n",
              "      <td>0.000000</td>\n",
              "    </tr>\n",
              "    <tr>\n",
              "      <th>25%</th>\n",
              "      <td>1.000000</td>\n",
              "      <td>3.000000</td>\n",
              "      <td>9.100000</td>\n",
              "      <td>32.000000</td>\n",
              "      <td>14.000000</td>\n",
              "      <td>1012.500000</td>\n",
              "      <td>0.000000</td>\n",
              "      <td>0.000000</td>\n",
              "      <td>0.000000</td>\n",
              "      <td>0.000000</td>\n",
              "    </tr>\n",
              "    <tr>\n",
              "      <th>50%</th>\n",
              "      <td>54.000000</td>\n",
              "      <td>6.000000</td>\n",
              "      <td>10.000000</td>\n",
              "      <td>46.500000</td>\n",
              "      <td>30.000000</td>\n",
              "      <td>1018.200000</td>\n",
              "      <td>0.000000</td>\n",
              "      <td>0.000000</td>\n",
              "      <td>0.000000</td>\n",
              "      <td>0.000000</td>\n",
              "    </tr>\n",
              "    <tr>\n",
              "      <th>75%</th>\n",
              "      <td>449.000000</td>\n",
              "      <td>8.000000</td>\n",
              "      <td>10.000000</td>\n",
              "      <td>65.000000</td>\n",
              "      <td>50.000000</td>\n",
              "      <td>1022.900000</td>\n",
              "      <td>0.000000</td>\n",
              "      <td>0.000000</td>\n",
              "      <td>0.050000</td>\n",
              "      <td>2.958333</td>\n",
              "    </tr>\n",
              "    <tr>\n",
              "      <th>max</th>\n",
              "      <td>7883.000000</td>\n",
              "      <td>21.000000</td>\n",
              "      <td>10.000000</td>\n",
              "      <td>89.000000</td>\n",
              "      <td>73.000000</td>\n",
              "      <td>1043.400000</td>\n",
              "      <td>0.280000</td>\n",
              "      <td>1.240000</td>\n",
              "      <td>2.100000</td>\n",
              "      <td>19.000000</td>\n",
              "    </tr>\n",
              "  </tbody>\n",
              "</table>\n",
              "</div>\n",
              "      <button class=\"colab-df-convert\" onclick=\"convertToInteractive('df-b43b6504-6fd7-4298-93d3-6ffd102001e4')\"\n",
              "              title=\"Convert this dataframe to an interactive table.\"\n",
              "              style=\"display:none;\">\n",
              "        \n",
              "  <svg xmlns=\"http://www.w3.org/2000/svg\" height=\"24px\"viewBox=\"0 0 24 24\"\n",
              "       width=\"24px\">\n",
              "    <path d=\"M0 0h24v24H0V0z\" fill=\"none\"/>\n",
              "    <path d=\"M18.56 5.44l.94 2.06.94-2.06 2.06-.94-2.06-.94-.94-2.06-.94 2.06-2.06.94zm-11 1L8.5 8.5l.94-2.06 2.06-.94-2.06-.94L8.5 2.5l-.94 2.06-2.06.94zm10 10l.94 2.06.94-2.06 2.06-.94-2.06-.94-.94-2.06-.94 2.06-2.06.94z\"/><path d=\"M17.41 7.96l-1.37-1.37c-.4-.4-.92-.59-1.43-.59-.52 0-1.04.2-1.43.59L10.3 9.45l-7.72 7.72c-.78.78-.78 2.05 0 2.83L4 21.41c.39.39.9.59 1.41.59.51 0 1.02-.2 1.41-.59l7.78-7.78 2.81-2.81c.8-.78.8-2.07 0-2.86zM5.41 20L4 18.59l7.72-7.72 1.47 1.35L5.41 20z\"/>\n",
              "  </svg>\n",
              "      </button>\n",
              "      \n",
              "  <style>\n",
              "    .colab-df-container {\n",
              "      display:flex;\n",
              "      flex-wrap:wrap;\n",
              "      gap: 12px;\n",
              "    }\n",
              "\n",
              "    .colab-df-convert {\n",
              "      background-color: #E8F0FE;\n",
              "      border: none;\n",
              "      border-radius: 50%;\n",
              "      cursor: pointer;\n",
              "      display: none;\n",
              "      fill: #1967D2;\n",
              "      height: 32px;\n",
              "      padding: 0 0 0 0;\n",
              "      width: 32px;\n",
              "    }\n",
              "\n",
              "    .colab-df-convert:hover {\n",
              "      background-color: #E2EBFA;\n",
              "      box-shadow: 0px 1px 2px rgba(60, 64, 67, 0.3), 0px 1px 3px 1px rgba(60, 64, 67, 0.15);\n",
              "      fill: #174EA6;\n",
              "    }\n",
              "\n",
              "    [theme=dark] .colab-df-convert {\n",
              "      background-color: #3B4455;\n",
              "      fill: #D2E3FC;\n",
              "    }\n",
              "\n",
              "    [theme=dark] .colab-df-convert:hover {\n",
              "      background-color: #434B5C;\n",
              "      box-shadow: 0px 1px 3px 1px rgba(0, 0, 0, 0.15);\n",
              "      filter: drop-shadow(0px 1px 2px rgba(0, 0, 0, 0.3));\n",
              "      fill: #FFFFFF;\n",
              "    }\n",
              "  </style>\n",
              "\n",
              "      <script>\n",
              "        const buttonEl =\n",
              "          document.querySelector('#df-b43b6504-6fd7-4298-93d3-6ffd102001e4 button.colab-df-convert');\n",
              "        buttonEl.style.display =\n",
              "          google.colab.kernel.accessAllowed ? 'block' : 'none';\n",
              "\n",
              "        async function convertToInteractive(key) {\n",
              "          const element = document.querySelector('#df-b43b6504-6fd7-4298-93d3-6ffd102001e4');\n",
              "          const dataTable =\n",
              "            await google.colab.kernel.invokeFunction('convertToInteractive',\n",
              "                                                     [key], {});\n",
              "          if (!dataTable) return;\n",
              "\n",
              "          const docLinkHtml = 'Like what you see? Visit the ' +\n",
              "            '<a target=\"_blank\" href=https://colab.research.google.com/notebooks/data_table.ipynb>data table notebook</a>'\n",
              "            + ' to learn more about interactive tables.';\n",
              "          element.innerHTML = '';\n",
              "          dataTable['output_type'] = 'display_data';\n",
              "          await google.colab.output.renderOutput(dataTable, element);\n",
              "          const docLink = document.createElement('div');\n",
              "          docLink.innerHTML = docLinkHtml;\n",
              "          element.appendChild(docLink);\n",
              "        }\n",
              "      </script>\n",
              "    </div>\n",
              "  </div>\n",
              "  "
            ]
          },
          "metadata": {},
          "execution_count": 7
        }
      ],
      "source": [
        "uber_df.describe()\n",
        "\n",
        "# statistical summary of every column\n",
        "# distribution of every column - skew\n",
        "# outlier - influential, noisy\n",
        "# variation\n",
        "\n",
        "# Skew --> there might be a chance I have to remove the skew - Data Transformation \n",
        "# ML model can fit better to data\n"
      ]
    },
    {
      "cell_type": "markdown",
      "metadata": {
        "id": "svBC9nXK3upt"
      },
      "source": [
        "#  **Let's check the count of each unique category in each of the categorical/object type variables.**"
      ]
    },
    {
      "cell_type": "code",
      "source": [
        "uber_df['borough'].unique()"
      ],
      "metadata": {
        "id": "fFdmyY41d4zX",
        "colab": {
          "base_uri": "https://localhost:8080/"
        },
        "outputId": "2d9f581e-e52b-4a3b-b715-4d5d5153b0c6"
      },
      "execution_count": 8,
      "outputs": [
        {
          "output_type": "execute_result",
          "data": {
            "text/plain": [
              "array(['Bronx', 'Brooklyn', 'EWR', 'Manhattan', 'Queens', 'Staten Island',\n",
              "       nan], dtype=object)"
            ]
          },
          "metadata": {},
          "execution_count": 8
        }
      ]
    },
    {
      "cell_type": "code",
      "source": [
        "uber_df['borough'].nunique()"
      ],
      "metadata": {
        "id": "YKKMFM3X4ChF",
        "colab": {
          "base_uri": "https://localhost:8080/"
        },
        "outputId": "7ff90df9-7348-478b-c9df-bf96987c7dd1"
      },
      "execution_count": 9,
      "outputs": [
        {
          "output_type": "execute_result",
          "data": {
            "text/plain": [
              "6"
            ]
          },
          "metadata": {},
          "execution_count": 9
        }
      ]
    },
    {
      "cell_type": "markdown",
      "source": [
        "# **We can observe that there are 6 unique boroughs present in the uber dataset**"
      ],
      "metadata": {
        "id": "BYxuTDfyelS_"
      }
    },
    {
      "cell_type": "code",
      "source": [
        "uber_df['hday'].value_counts(normalize=True) # Normalize = True shows the value in the form of percentage ."
      ],
      "metadata": {
        "id": "w7a6Jc09d-sK",
        "colab": {
          "base_uri": "https://localhost:8080/"
        },
        "outputId": "96c4a3b8-73c4-46c3-f5f9-b64f844cc563"
      },
      "execution_count": 10,
      "outputs": [
        {
          "output_type": "execute_result",
          "data": {
            "text/plain": [
              "N    0.961479\n",
              "Y    0.038521\n",
              "Name: hday, dtype: float64"
            ]
          },
          "metadata": {},
          "execution_count": 10
        }
      ]
    },
    {
      "cell_type": "code",
      "source": [
        "uber_df['borough'].value_counts(normalize=True)"
      ],
      "metadata": {
        "colab": {
          "base_uri": "https://localhost:8080/"
        },
        "id": "wpRzPxaIksCO",
        "outputId": "229ac4bb-b50e-46ab-e86d-a50baea1f990"
      },
      "execution_count": 11,
      "outputs": [
        {
          "output_type": "execute_result",
          "data": {
            "text/plain": [
              "Bronx            0.166667\n",
              "Brooklyn         0.166667\n",
              "EWR              0.166667\n",
              "Manhattan        0.166667\n",
              "Queens           0.166667\n",
              "Staten Island    0.166667\n",
              "Name: borough, dtype: float64"
            ]
          },
          "metadata": {},
          "execution_count": 11
        }
      ]
    },
    {
      "cell_type": "markdown",
      "metadata": {
        "id": "HSpYcGWICmMP"
      },
      "source": [
        "#  **Standardise the datatypes**"
      ]
    },
    {
      "cell_type": "code",
      "source": [
        "# Let us change the data type of pickup_dt to date-time format.\n",
        "\n",
        "uber_df['pickup_dt'][:5]"
      ],
      "metadata": {
        "id": "GF9sDThl4Ra3",
        "colab": {
          "base_uri": "https://localhost:8080/"
        },
        "outputId": "f154ac9c-c2ea-48d6-affe-9263873edfd9"
      },
      "execution_count": 12,
      "outputs": [
        {
          "output_type": "execute_result",
          "data": {
            "text/plain": [
              "0    01-01-2015 01:00\n",
              "1    01-01-2015 01:00\n",
              "2    01-01-2015 01:00\n",
              "3    01-01-2015 01:00\n",
              "4    01-01-2015 01:00\n",
              "Name: pickup_dt, dtype: object"
            ]
          },
          "metadata": {},
          "execution_count": 12
        }
      ]
    },
    {
      "cell_type": "code",
      "source": [
        "# Datetime --> Standard format for python .\n",
        "\n",
        "# YYYY-mm-dd H:M:S\n",
        "\n",
        "# dd-mm-yyyy h:m"
      ],
      "metadata": {
        "id": "74vE3KQClX09"
      },
      "execution_count": 13,
      "outputs": []
    },
    {
      "cell_type": "code",
      "execution_count": 14,
      "metadata": {
        "id": "HlVBWhiPCmMP"
      },
      "outputs": [],
      "source": [
        "uber_df['pickup_dt'] = pd.to_datetime(uber_df['pickup_dt'], format=\"%d-%m-%Y %H:%M\")"
      ]
    },
    {
      "cell_type": "code",
      "source": [
        "uber_df['pickup_dt'][:5]\n"
      ],
      "metadata": {
        "id": "DLu7uJnl4fAy",
        "colab": {
          "base_uri": "https://localhost:8080/"
        },
        "outputId": "1500995b-2983-4a33-bf94-de51de969db7"
      },
      "execution_count": 15,
      "outputs": [
        {
          "output_type": "execute_result",
          "data": {
            "text/plain": [
              "0   2015-01-01 01:00:00\n",
              "1   2015-01-01 01:00:00\n",
              "2   2015-01-01 01:00:00\n",
              "3   2015-01-01 01:00:00\n",
              "4   2015-01-01 01:00:00\n",
              "Name: pickup_dt, dtype: datetime64[ns]"
            ]
          },
          "metadata": {},
          "execution_count": 15
        }
      ]
    },
    {
      "cell_type": "markdown",
      "source": [
        "# **Let's check the data types of the columns again to ensure that the change has been executed properly**."
      ],
      "metadata": {
        "id": "Si33SFEfqrKu"
      }
    },
    {
      "cell_type": "code",
      "execution_count": 16,
      "metadata": {
        "id": "vF39s0gSCmMU",
        "colab": {
          "base_uri": "https://localhost:8080/"
        },
        "outputId": "10d5ad31-a4e8-493c-a2d7-31f25de17778"
      },
      "outputs": [
        {
          "output_type": "stream",
          "name": "stdout",
          "text": [
            "<class 'pandas.core.frame.DataFrame'>\n",
            "RangeIndex: 29101 entries, 0 to 29100\n",
            "Data columns (total 13 columns):\n",
            " #   Column     Non-Null Count  Dtype         \n",
            "---  ------     --------------  -----         \n",
            " 0   pickup_dt  29101 non-null  datetime64[ns]\n",
            " 1   borough    26058 non-null  object        \n",
            " 2   pickups    29101 non-null  int64         \n",
            " 3   spd        29101 non-null  float64       \n",
            " 4   vsb        29101 non-null  float64       \n",
            " 5   temp       28742 non-null  float64       \n",
            " 6   dewp       29101 non-null  float64       \n",
            " 7   slp        29101 non-null  float64       \n",
            " 8   pcp01      29101 non-null  float64       \n",
            " 9   pcp06      29101 non-null  float64       \n",
            " 10  pcp24      29101 non-null  float64       \n",
            " 11  sd         29101 non-null  float64       \n",
            " 12  hday       29101 non-null  object        \n",
            "dtypes: datetime64[ns](1), float64(9), int64(1), object(2)\n",
            "memory usage: 2.9+ MB\n"
          ]
        }
      ],
      "source": [
        "uber_df.info()"
      ]
    },
    {
      "cell_type": "markdown",
      "source": [
        "Now let's check the range of time period for which the data has been collected."
      ],
      "metadata": {
        "id": "aTiD4ChKtFxj"
      }
    },
    {
      "cell_type": "code",
      "source": [
        "uber_df['pickup_dt'].min() # Start Date"
      ],
      "metadata": {
        "id": "UJM-e_7HtPpl",
        "colab": {
          "base_uri": "https://localhost:8080/"
        },
        "outputId": "dc834be3-5bf5-41a7-c68e-d4b7aaefadb2"
      },
      "execution_count": 17,
      "outputs": [
        {
          "output_type": "execute_result",
          "data": {
            "text/plain": [
              "Timestamp('2015-01-01 01:00:00')"
            ]
          },
          "metadata": {},
          "execution_count": 17
        }
      ]
    },
    {
      "cell_type": "code",
      "source": [
        "uber_df['pickup_dt'].max() # End Date"
      ],
      "metadata": {
        "id": "uygASkFXthBs",
        "colab": {
          "base_uri": "https://localhost:8080/"
        },
        "outputId": "0a6ef2ef-e21d-4b57-9570-652b756b9e5a"
      },
      "execution_count": 18,
      "outputs": [
        {
          "output_type": "execute_result",
          "data": {
            "text/plain": [
              "Timestamp('2015-06-30 23:00:00')"
            ]
          },
          "metadata": {},
          "execution_count": 18
        }
      ]
    },
    {
      "cell_type": "code",
      "source": [
        "# Feature Engineering --> Deriving useful features from raw data"
      ],
      "metadata": {
        "id": "ZWa6emwZl3p8"
      },
      "execution_count": 19,
      "outputs": []
    },
    {
      "cell_type": "code",
      "source": [
        "uber_df.head()"
      ],
      "metadata": {
        "colab": {
          "base_uri": "https://localhost:8080/",
          "height": 206
        },
        "id": "KyXSK99Zl9ys",
        "outputId": "967b2a94-26bc-4e6f-d9c8-89929612d311"
      },
      "execution_count": 20,
      "outputs": [
        {
          "output_type": "execute_result",
          "data": {
            "text/plain": [
              "            pickup_dt    borough  pickups  spd   vsb  temp  dewp     slp  \\\n",
              "0 2015-01-01 01:00:00      Bronx      152  5.0  10.0  30.0   7.0  1023.5   \n",
              "1 2015-01-01 01:00:00   Brooklyn     1519  5.0  10.0   NaN   7.0  1023.5   \n",
              "2 2015-01-01 01:00:00        EWR        0  5.0  10.0  30.0   7.0  1023.5   \n",
              "3 2015-01-01 01:00:00  Manhattan     5258  5.0  10.0  30.0   7.0  1023.5   \n",
              "4 2015-01-01 01:00:00     Queens      405  5.0  10.0  30.0   7.0  1023.5   \n",
              "\n",
              "   pcp01  pcp06  pcp24   sd hday  \n",
              "0    0.0    0.0    0.0  0.0    Y  \n",
              "1    0.0    0.0    0.0  0.0    Y  \n",
              "2    0.0    0.0    0.0  0.0    Y  \n",
              "3    0.0    0.0    0.0  0.0    Y  \n",
              "4    0.0    0.0    0.0  0.0    Y  "
            ],
            "text/html": [
              "\n",
              "  <div id=\"df-34fcf377-e661-4624-a51f-da1ab354960c\">\n",
              "    <div class=\"colab-df-container\">\n",
              "      <div>\n",
              "<style scoped>\n",
              "    .dataframe tbody tr th:only-of-type {\n",
              "        vertical-align: middle;\n",
              "    }\n",
              "\n",
              "    .dataframe tbody tr th {\n",
              "        vertical-align: top;\n",
              "    }\n",
              "\n",
              "    .dataframe thead th {\n",
              "        text-align: right;\n",
              "    }\n",
              "</style>\n",
              "<table border=\"1\" class=\"dataframe\">\n",
              "  <thead>\n",
              "    <tr style=\"text-align: right;\">\n",
              "      <th></th>\n",
              "      <th>pickup_dt</th>\n",
              "      <th>borough</th>\n",
              "      <th>pickups</th>\n",
              "      <th>spd</th>\n",
              "      <th>vsb</th>\n",
              "      <th>temp</th>\n",
              "      <th>dewp</th>\n",
              "      <th>slp</th>\n",
              "      <th>pcp01</th>\n",
              "      <th>pcp06</th>\n",
              "      <th>pcp24</th>\n",
              "      <th>sd</th>\n",
              "      <th>hday</th>\n",
              "    </tr>\n",
              "  </thead>\n",
              "  <tbody>\n",
              "    <tr>\n",
              "      <th>0</th>\n",
              "      <td>2015-01-01 01:00:00</td>\n",
              "      <td>Bronx</td>\n",
              "      <td>152</td>\n",
              "      <td>5.0</td>\n",
              "      <td>10.0</td>\n",
              "      <td>30.0</td>\n",
              "      <td>7.0</td>\n",
              "      <td>1023.5</td>\n",
              "      <td>0.0</td>\n",
              "      <td>0.0</td>\n",
              "      <td>0.0</td>\n",
              "      <td>0.0</td>\n",
              "      <td>Y</td>\n",
              "    </tr>\n",
              "    <tr>\n",
              "      <th>1</th>\n",
              "      <td>2015-01-01 01:00:00</td>\n",
              "      <td>Brooklyn</td>\n",
              "      <td>1519</td>\n",
              "      <td>5.0</td>\n",
              "      <td>10.0</td>\n",
              "      <td>NaN</td>\n",
              "      <td>7.0</td>\n",
              "      <td>1023.5</td>\n",
              "      <td>0.0</td>\n",
              "      <td>0.0</td>\n",
              "      <td>0.0</td>\n",
              "      <td>0.0</td>\n",
              "      <td>Y</td>\n",
              "    </tr>\n",
              "    <tr>\n",
              "      <th>2</th>\n",
              "      <td>2015-01-01 01:00:00</td>\n",
              "      <td>EWR</td>\n",
              "      <td>0</td>\n",
              "      <td>5.0</td>\n",
              "      <td>10.0</td>\n",
              "      <td>30.0</td>\n",
              "      <td>7.0</td>\n",
              "      <td>1023.5</td>\n",
              "      <td>0.0</td>\n",
              "      <td>0.0</td>\n",
              "      <td>0.0</td>\n",
              "      <td>0.0</td>\n",
              "      <td>Y</td>\n",
              "    </tr>\n",
              "    <tr>\n",
              "      <th>3</th>\n",
              "      <td>2015-01-01 01:00:00</td>\n",
              "      <td>Manhattan</td>\n",
              "      <td>5258</td>\n",
              "      <td>5.0</td>\n",
              "      <td>10.0</td>\n",
              "      <td>30.0</td>\n",
              "      <td>7.0</td>\n",
              "      <td>1023.5</td>\n",
              "      <td>0.0</td>\n",
              "      <td>0.0</td>\n",
              "      <td>0.0</td>\n",
              "      <td>0.0</td>\n",
              "      <td>Y</td>\n",
              "    </tr>\n",
              "    <tr>\n",
              "      <th>4</th>\n",
              "      <td>2015-01-01 01:00:00</td>\n",
              "      <td>Queens</td>\n",
              "      <td>405</td>\n",
              "      <td>5.0</td>\n",
              "      <td>10.0</td>\n",
              "      <td>30.0</td>\n",
              "      <td>7.0</td>\n",
              "      <td>1023.5</td>\n",
              "      <td>0.0</td>\n",
              "      <td>0.0</td>\n",
              "      <td>0.0</td>\n",
              "      <td>0.0</td>\n",
              "      <td>Y</td>\n",
              "    </tr>\n",
              "  </tbody>\n",
              "</table>\n",
              "</div>\n",
              "      <button class=\"colab-df-convert\" onclick=\"convertToInteractive('df-34fcf377-e661-4624-a51f-da1ab354960c')\"\n",
              "              title=\"Convert this dataframe to an interactive table.\"\n",
              "              style=\"display:none;\">\n",
              "        \n",
              "  <svg xmlns=\"http://www.w3.org/2000/svg\" height=\"24px\"viewBox=\"0 0 24 24\"\n",
              "       width=\"24px\">\n",
              "    <path d=\"M0 0h24v24H0V0z\" fill=\"none\"/>\n",
              "    <path d=\"M18.56 5.44l.94 2.06.94-2.06 2.06-.94-2.06-.94-.94-2.06-.94 2.06-2.06.94zm-11 1L8.5 8.5l.94-2.06 2.06-.94-2.06-.94L8.5 2.5l-.94 2.06-2.06.94zm10 10l.94 2.06.94-2.06 2.06-.94-2.06-.94-.94-2.06-.94 2.06-2.06.94z\"/><path d=\"M17.41 7.96l-1.37-1.37c-.4-.4-.92-.59-1.43-.59-.52 0-1.04.2-1.43.59L10.3 9.45l-7.72 7.72c-.78.78-.78 2.05 0 2.83L4 21.41c.39.39.9.59 1.41.59.51 0 1.02-.2 1.41-.59l7.78-7.78 2.81-2.81c.8-.78.8-2.07 0-2.86zM5.41 20L4 18.59l7.72-7.72 1.47 1.35L5.41 20z\"/>\n",
              "  </svg>\n",
              "      </button>\n",
              "      \n",
              "  <style>\n",
              "    .colab-df-container {\n",
              "      display:flex;\n",
              "      flex-wrap:wrap;\n",
              "      gap: 12px;\n",
              "    }\n",
              "\n",
              "    .colab-df-convert {\n",
              "      background-color: #E8F0FE;\n",
              "      border: none;\n",
              "      border-radius: 50%;\n",
              "      cursor: pointer;\n",
              "      display: none;\n",
              "      fill: #1967D2;\n",
              "      height: 32px;\n",
              "      padding: 0 0 0 0;\n",
              "      width: 32px;\n",
              "    }\n",
              "\n",
              "    .colab-df-convert:hover {\n",
              "      background-color: #E2EBFA;\n",
              "      box-shadow: 0px 1px 2px rgba(60, 64, 67, 0.3), 0px 1px 3px 1px rgba(60, 64, 67, 0.15);\n",
              "      fill: #174EA6;\n",
              "    }\n",
              "\n",
              "    [theme=dark] .colab-df-convert {\n",
              "      background-color: #3B4455;\n",
              "      fill: #D2E3FC;\n",
              "    }\n",
              "\n",
              "    [theme=dark] .colab-df-convert:hover {\n",
              "      background-color: #434B5C;\n",
              "      box-shadow: 0px 1px 3px 1px rgba(0, 0, 0, 0.15);\n",
              "      filter: drop-shadow(0px 1px 2px rgba(0, 0, 0, 0.3));\n",
              "      fill: #FFFFFF;\n",
              "    }\n",
              "  </style>\n",
              "\n",
              "      <script>\n",
              "        const buttonEl =\n",
              "          document.querySelector('#df-34fcf377-e661-4624-a51f-da1ab354960c button.colab-df-convert');\n",
              "        buttonEl.style.display =\n",
              "          google.colab.kernel.accessAllowed ? 'block' : 'none';\n",
              "\n",
              "        async function convertToInteractive(key) {\n",
              "          const element = document.querySelector('#df-34fcf377-e661-4624-a51f-da1ab354960c');\n",
              "          const dataTable =\n",
              "            await google.colab.kernel.invokeFunction('convertToInteractive',\n",
              "                                                     [key], {});\n",
              "          if (!dataTable) return;\n",
              "\n",
              "          const docLinkHtml = 'Like what you see? Visit the ' +\n",
              "            '<a target=\"_blank\" href=https://colab.research.google.com/notebooks/data_table.ipynb>data table notebook</a>'\n",
              "            + ' to learn more about interactive tables.';\n",
              "          element.innerHTML = '';\n",
              "          dataTable['output_type'] = 'display_data';\n",
              "          await google.colab.output.renderOutput(dataTable, element);\n",
              "          const docLink = document.createElement('div');\n",
              "          docLink.innerHTML = docLinkHtml;\n",
              "          element.appendChild(docLink);\n",
              "        }\n",
              "      </script>\n",
              "    </div>\n",
              "  </div>\n",
              "  "
            ]
          },
          "metadata": {},
          "execution_count": 20
        }
      ]
    },
    {
      "cell_type": "markdown",
      "metadata": {
        "id": "anXwYwBpnzoa"
      },
      "source": [
        "# **Extracting date parts from pickup date**\n",
        "\n",
        "\n",
        "\n"
      ]
    },
    {
      "cell_type": "code",
      "source": [
        "# df.pickup_dt.dt\n",
        "\n",
        "# <df><column>.dt.display\n",
        "# multiple functions"
      ],
      "metadata": {
        "id": "iLQzZQPrmMdt"
      },
      "execution_count": 21,
      "outputs": []
    },
    {
      "cell_type": "code",
      "execution_count": 22,
      "metadata": {
        "id": "gtg1TE27CmMZ"
      },
      "outputs": [],
      "source": [
        "# Extracting date parts from pickup date.\n",
        "\n",
        "uber_df['start_year'] = uber_df.pickup_dt.dt.year # extracting the year from the date\n",
        "uber_df['start_month'] = uber_df.pickup_dt.dt.month_name() # extracting the month name from the date\n",
        "uber_df['start_hour'] = uber_df.pickup_dt.dt.hour # extracting the hour from the time\n",
        "uber_df['start_day'] = uber_df.pickup_dt.dt.day # extracting the day from the date\n",
        "uber_df['week_day'] = uber_df.pickup_dt.dt.day_name() # extracting the day of the week from the date\n"
      ]
    },
    {
      "cell_type": "code",
      "source": [
        "uber_df.head()"
      ],
      "metadata": {
        "id": "fxukjc0x6g2K",
        "colab": {
          "base_uri": "https://localhost:8080/",
          "height": 206
        },
        "outputId": "1c3bac11-2520-4e07-d3a0-6faa3d13ed9e"
      },
      "execution_count": 23,
      "outputs": [
        {
          "output_type": "execute_result",
          "data": {
            "text/plain": [
              "            pickup_dt    borough  pickups  spd   vsb  temp  dewp     slp  \\\n",
              "0 2015-01-01 01:00:00      Bronx      152  5.0  10.0  30.0   7.0  1023.5   \n",
              "1 2015-01-01 01:00:00   Brooklyn     1519  5.0  10.0   NaN   7.0  1023.5   \n",
              "2 2015-01-01 01:00:00        EWR        0  5.0  10.0  30.0   7.0  1023.5   \n",
              "3 2015-01-01 01:00:00  Manhattan     5258  5.0  10.0  30.0   7.0  1023.5   \n",
              "4 2015-01-01 01:00:00     Queens      405  5.0  10.0  30.0   7.0  1023.5   \n",
              "\n",
              "   pcp01  pcp06  pcp24   sd hday  start_year start_month  start_hour  \\\n",
              "0    0.0    0.0    0.0  0.0    Y        2015     January           1   \n",
              "1    0.0    0.0    0.0  0.0    Y        2015     January           1   \n",
              "2    0.0    0.0    0.0  0.0    Y        2015     January           1   \n",
              "3    0.0    0.0    0.0  0.0    Y        2015     January           1   \n",
              "4    0.0    0.0    0.0  0.0    Y        2015     January           1   \n",
              "\n",
              "   start_day  week_day  \n",
              "0          1  Thursday  \n",
              "1          1  Thursday  \n",
              "2          1  Thursday  \n",
              "3          1  Thursday  \n",
              "4          1  Thursday  "
            ],
            "text/html": [
              "\n",
              "  <div id=\"df-4a6109f6-8481-48ba-98a1-0d3df11f5ff3\">\n",
              "    <div class=\"colab-df-container\">\n",
              "      <div>\n",
              "<style scoped>\n",
              "    .dataframe tbody tr th:only-of-type {\n",
              "        vertical-align: middle;\n",
              "    }\n",
              "\n",
              "    .dataframe tbody tr th {\n",
              "        vertical-align: top;\n",
              "    }\n",
              "\n",
              "    .dataframe thead th {\n",
              "        text-align: right;\n",
              "    }\n",
              "</style>\n",
              "<table border=\"1\" class=\"dataframe\">\n",
              "  <thead>\n",
              "    <tr style=\"text-align: right;\">\n",
              "      <th></th>\n",
              "      <th>pickup_dt</th>\n",
              "      <th>borough</th>\n",
              "      <th>pickups</th>\n",
              "      <th>spd</th>\n",
              "      <th>vsb</th>\n",
              "      <th>temp</th>\n",
              "      <th>dewp</th>\n",
              "      <th>slp</th>\n",
              "      <th>pcp01</th>\n",
              "      <th>pcp06</th>\n",
              "      <th>pcp24</th>\n",
              "      <th>sd</th>\n",
              "      <th>hday</th>\n",
              "      <th>start_year</th>\n",
              "      <th>start_month</th>\n",
              "      <th>start_hour</th>\n",
              "      <th>start_day</th>\n",
              "      <th>week_day</th>\n",
              "    </tr>\n",
              "  </thead>\n",
              "  <tbody>\n",
              "    <tr>\n",
              "      <th>0</th>\n",
              "      <td>2015-01-01 01:00:00</td>\n",
              "      <td>Bronx</td>\n",
              "      <td>152</td>\n",
              "      <td>5.0</td>\n",
              "      <td>10.0</td>\n",
              "      <td>30.0</td>\n",
              "      <td>7.0</td>\n",
              "      <td>1023.5</td>\n",
              "      <td>0.0</td>\n",
              "      <td>0.0</td>\n",
              "      <td>0.0</td>\n",
              "      <td>0.0</td>\n",
              "      <td>Y</td>\n",
              "      <td>2015</td>\n",
              "      <td>January</td>\n",
              "      <td>1</td>\n",
              "      <td>1</td>\n",
              "      <td>Thursday</td>\n",
              "    </tr>\n",
              "    <tr>\n",
              "      <th>1</th>\n",
              "      <td>2015-01-01 01:00:00</td>\n",
              "      <td>Brooklyn</td>\n",
              "      <td>1519</td>\n",
              "      <td>5.0</td>\n",
              "      <td>10.0</td>\n",
              "      <td>NaN</td>\n",
              "      <td>7.0</td>\n",
              "      <td>1023.5</td>\n",
              "      <td>0.0</td>\n",
              "      <td>0.0</td>\n",
              "      <td>0.0</td>\n",
              "      <td>0.0</td>\n",
              "      <td>Y</td>\n",
              "      <td>2015</td>\n",
              "      <td>January</td>\n",
              "      <td>1</td>\n",
              "      <td>1</td>\n",
              "      <td>Thursday</td>\n",
              "    </tr>\n",
              "    <tr>\n",
              "      <th>2</th>\n",
              "      <td>2015-01-01 01:00:00</td>\n",
              "      <td>EWR</td>\n",
              "      <td>0</td>\n",
              "      <td>5.0</td>\n",
              "      <td>10.0</td>\n",
              "      <td>30.0</td>\n",
              "      <td>7.0</td>\n",
              "      <td>1023.5</td>\n",
              "      <td>0.0</td>\n",
              "      <td>0.0</td>\n",
              "      <td>0.0</td>\n",
              "      <td>0.0</td>\n",
              "      <td>Y</td>\n",
              "      <td>2015</td>\n",
              "      <td>January</td>\n",
              "      <td>1</td>\n",
              "      <td>1</td>\n",
              "      <td>Thursday</td>\n",
              "    </tr>\n",
              "    <tr>\n",
              "      <th>3</th>\n",
              "      <td>2015-01-01 01:00:00</td>\n",
              "      <td>Manhattan</td>\n",
              "      <td>5258</td>\n",
              "      <td>5.0</td>\n",
              "      <td>10.0</td>\n",
              "      <td>30.0</td>\n",
              "      <td>7.0</td>\n",
              "      <td>1023.5</td>\n",
              "      <td>0.0</td>\n",
              "      <td>0.0</td>\n",
              "      <td>0.0</td>\n",
              "      <td>0.0</td>\n",
              "      <td>Y</td>\n",
              "      <td>2015</td>\n",
              "      <td>January</td>\n",
              "      <td>1</td>\n",
              "      <td>1</td>\n",
              "      <td>Thursday</td>\n",
              "    </tr>\n",
              "    <tr>\n",
              "      <th>4</th>\n",
              "      <td>2015-01-01 01:00:00</td>\n",
              "      <td>Queens</td>\n",
              "      <td>405</td>\n",
              "      <td>5.0</td>\n",
              "      <td>10.0</td>\n",
              "      <td>30.0</td>\n",
              "      <td>7.0</td>\n",
              "      <td>1023.5</td>\n",
              "      <td>0.0</td>\n",
              "      <td>0.0</td>\n",
              "      <td>0.0</td>\n",
              "      <td>0.0</td>\n",
              "      <td>Y</td>\n",
              "      <td>2015</td>\n",
              "      <td>January</td>\n",
              "      <td>1</td>\n",
              "      <td>1</td>\n",
              "      <td>Thursday</td>\n",
              "    </tr>\n",
              "  </tbody>\n",
              "</table>\n",
              "</div>\n",
              "      <button class=\"colab-df-convert\" onclick=\"convertToInteractive('df-4a6109f6-8481-48ba-98a1-0d3df11f5ff3')\"\n",
              "              title=\"Convert this dataframe to an interactive table.\"\n",
              "              style=\"display:none;\">\n",
              "        \n",
              "  <svg xmlns=\"http://www.w3.org/2000/svg\" height=\"24px\"viewBox=\"0 0 24 24\"\n",
              "       width=\"24px\">\n",
              "    <path d=\"M0 0h24v24H0V0z\" fill=\"none\"/>\n",
              "    <path d=\"M18.56 5.44l.94 2.06.94-2.06 2.06-.94-2.06-.94-.94-2.06-.94 2.06-2.06.94zm-11 1L8.5 8.5l.94-2.06 2.06-.94-2.06-.94L8.5 2.5l-.94 2.06-2.06.94zm10 10l.94 2.06.94-2.06 2.06-.94-2.06-.94-.94-2.06-.94 2.06-2.06.94z\"/><path d=\"M17.41 7.96l-1.37-1.37c-.4-.4-.92-.59-1.43-.59-.52 0-1.04.2-1.43.59L10.3 9.45l-7.72 7.72c-.78.78-.78 2.05 0 2.83L4 21.41c.39.39.9.59 1.41.59.51 0 1.02-.2 1.41-.59l7.78-7.78 2.81-2.81c.8-.78.8-2.07 0-2.86zM5.41 20L4 18.59l7.72-7.72 1.47 1.35L5.41 20z\"/>\n",
              "  </svg>\n",
              "      </button>\n",
              "      \n",
              "  <style>\n",
              "    .colab-df-container {\n",
              "      display:flex;\n",
              "      flex-wrap:wrap;\n",
              "      gap: 12px;\n",
              "    }\n",
              "\n",
              "    .colab-df-convert {\n",
              "      background-color: #E8F0FE;\n",
              "      border: none;\n",
              "      border-radius: 50%;\n",
              "      cursor: pointer;\n",
              "      display: none;\n",
              "      fill: #1967D2;\n",
              "      height: 32px;\n",
              "      padding: 0 0 0 0;\n",
              "      width: 32px;\n",
              "    }\n",
              "\n",
              "    .colab-df-convert:hover {\n",
              "      background-color: #E2EBFA;\n",
              "      box-shadow: 0px 1px 2px rgba(60, 64, 67, 0.3), 0px 1px 3px 1px rgba(60, 64, 67, 0.15);\n",
              "      fill: #174EA6;\n",
              "    }\n",
              "\n",
              "    [theme=dark] .colab-df-convert {\n",
              "      background-color: #3B4455;\n",
              "      fill: #D2E3FC;\n",
              "    }\n",
              "\n",
              "    [theme=dark] .colab-df-convert:hover {\n",
              "      background-color: #434B5C;\n",
              "      box-shadow: 0px 1px 3px 1px rgba(0, 0, 0, 0.15);\n",
              "      filter: drop-shadow(0px 1px 2px rgba(0, 0, 0, 0.3));\n",
              "      fill: #FFFFFF;\n",
              "    }\n",
              "  </style>\n",
              "\n",
              "      <script>\n",
              "        const buttonEl =\n",
              "          document.querySelector('#df-4a6109f6-8481-48ba-98a1-0d3df11f5ff3 button.colab-df-convert');\n",
              "        buttonEl.style.display =\n",
              "          google.colab.kernel.accessAllowed ? 'block' : 'none';\n",
              "\n",
              "        async function convertToInteractive(key) {\n",
              "          const element = document.querySelector('#df-4a6109f6-8481-48ba-98a1-0d3df11f5ff3');\n",
              "          const dataTable =\n",
              "            await google.colab.kernel.invokeFunction('convertToInteractive',\n",
              "                                                     [key], {});\n",
              "          if (!dataTable) return;\n",
              "\n",
              "          const docLinkHtml = 'Like what you see? Visit the ' +\n",
              "            '<a target=\"_blank\" href=https://colab.research.google.com/notebooks/data_table.ipynb>data table notebook</a>'\n",
              "            + ' to learn more about interactive tables.';\n",
              "          element.innerHTML = '';\n",
              "          dataTable['output_type'] = 'display_data';\n",
              "          await google.colab.output.renderOutput(dataTable, element);\n",
              "          const docLink = document.createElement('div');\n",
              "          docLink.innerHTML = docLinkHtml;\n",
              "          element.appendChild(docLink);\n",
              "        }\n",
              "      </script>\n",
              "    </div>\n",
              "  </div>\n",
              "  "
            ]
          },
          "metadata": {},
          "execution_count": 23
        }
      ]
    },
    {
      "cell_type": "code",
      "source": [
        "uber_df.shape"
      ],
      "metadata": {
        "colab": {
          "base_uri": "https://localhost:8080/"
        },
        "id": "8h5TTTcrnE_M",
        "outputId": "79d5a2ad-4907-49cd-dcd8-ca44236ab25e"
      },
      "execution_count": 24,
      "outputs": [
        {
          "output_type": "execute_result",
          "data": {
            "text/plain": [
              "(29101, 18)"
            ]
          },
          "metadata": {},
          "execution_count": 24
        }
      ]
    },
    {
      "cell_type": "markdown",
      "metadata": {
        "id": "IUsnBs8OrhaL"
      },
      "source": [
        "**We have earlier seen that the `borough` and `temp` columns have missing values in them. So let us see them in detail before moving on to do our EDA.**"
      ]
    },
    {
      "cell_type": "markdown",
      "metadata": {
        "id": "XbECHPQ1CmMj"
      },
      "source": [
        "### **Missing value treatment**"
      ]
    },
    {
      "cell_type": "markdown",
      "source": [
        "One of the commonly used method to deal with the missing values is to impute them with the central tendencies - mean, median, and mode of a column.\n"
      ],
      "metadata": {
        "id": "kqx5hRXonIpb"
      }
    },
    {
      "cell_type": "code",
      "execution_count": 25,
      "metadata": {
        "id": "CXXpGJjyCmMk",
        "colab": {
          "base_uri": "https://localhost:8080/"
        },
        "outputId": "9c8db6fc-e870-4ad3-bc93-85250ce71cd4"
      },
      "outputs": [
        {
          "output_type": "execute_result",
          "data": {
            "text/plain": [
              "pickup_dt         0\n",
              "borough        3043\n",
              "pickups           0\n",
              "spd               0\n",
              "vsb               0\n",
              "temp            359\n",
              "dewp              0\n",
              "slp               0\n",
              "pcp01             0\n",
              "pcp06             0\n",
              "pcp24             0\n",
              "sd                0\n",
              "hday              0\n",
              "start_year        0\n",
              "start_month       0\n",
              "start_hour        0\n",
              "start_day         0\n",
              "week_day          0\n",
              "dtype: int64"
            ]
          },
          "metadata": {},
          "execution_count": 25
        }
      ],
      "source": [
        "# checking missing values across each columns\n",
        "uber_df.isnull().sum()"
      ]
    },
    {
      "cell_type": "markdown",
      "metadata": {
        "id": "L6g_aCamtaWX"
      },
      "source": [
        "Let us first see the missing value of the `borough` column in detail."
      ]
    },
    {
      "cell_type": "code",
      "execution_count": 26,
      "metadata": {
        "id": "smXZ196_CmMm",
        "colab": {
          "base_uri": "https://localhost:8080/"
        },
        "outputId": "38684fe5-fd95-4c0a-bfcc-05d0f168869a"
      },
      "outputs": [
        {
          "output_type": "execute_result",
          "data": {
            "text/plain": [
              "Bronx            0.149239\n",
              "Brooklyn         0.149239\n",
              "EWR              0.149239\n",
              "Manhattan        0.149239\n",
              "Queens           0.149239\n",
              "Staten Island    0.149239\n",
              "NaN              0.104567\n",
              "Name: borough, dtype: float64"
            ]
          },
          "metadata": {},
          "execution_count": 26
        }
      ],
      "source": [
        "# Checking the missing values further\n",
        "uber_df.borough.value_counts(normalize=True, dropna=False)"
      ]
    },
    {
      "cell_type": "code",
      "source": [
        "# Filling the misisng Value --> Imputation\n",
        "\n",
        "# most frequent category"
      ],
      "metadata": {
        "id": "X8hefv_Xni9d"
      },
      "execution_count": 27,
      "outputs": []
    },
    {
      "cell_type": "code",
      "execution_count": 28,
      "metadata": {
        "id": "CsRS1e5nCmMo"
      },
      "outputs": [],
      "source": [
        "# Replace the null values present in the borough column with a new label as Unknown\n",
        "uber_df['borough'].fillna('Unknown', inplace = True) "
      ]
    },
    {
      "cell_type": "code",
      "source": [
        "uber_df.borough.value_counts(normalize=True, dropna=False)"
      ],
      "metadata": {
        "id": "f0VkAAr_jmrH",
        "colab": {
          "base_uri": "https://localhost:8080/"
        },
        "outputId": "b06d7b0f-2b69-4ceb-a26b-05e43a8f2942"
      },
      "execution_count": 29,
      "outputs": [
        {
          "output_type": "execute_result",
          "data": {
            "text/plain": [
              "Bronx            0.149239\n",
              "Brooklyn         0.149239\n",
              "EWR              0.149239\n",
              "Manhattan        0.149239\n",
              "Queens           0.149239\n",
              "Staten Island    0.149239\n",
              "Unknown          0.104567\n",
              "Name: borough, dtype: float64"
            ]
          },
          "metadata": {},
          "execution_count": 29
        }
      ]
    },
    {
      "cell_type": "code",
      "execution_count": 30,
      "metadata": {
        "id": "--sSo20pCmMs",
        "colab": {
          "base_uri": "https://localhost:8080/"
        },
        "outputId": "fa5e5eaa-3f08-4a40-b534-51dda51985a4"
      },
      "outputs": [
        {
          "output_type": "execute_result",
          "data": {
            "text/plain": [
              "pickup_dt        0\n",
              "borough          0\n",
              "pickups          0\n",
              "spd              0\n",
              "vsb              0\n",
              "temp           359\n",
              "dewp             0\n",
              "slp              0\n",
              "pcp01            0\n",
              "pcp06            0\n",
              "pcp24            0\n",
              "sd               0\n",
              "hday             0\n",
              "start_year       0\n",
              "start_month      0\n",
              "start_hour       0\n",
              "start_day        0\n",
              "week_day         0\n",
              "dtype: int64"
            ]
          },
          "metadata": {},
          "execution_count": 30
        }
      ],
      "source": [
        "uber_df.isnull().sum()"
      ]
    },
    {
      "cell_type": "markdown",
      "metadata": {
        "id": "x2I-IoVVCmMt"
      },
      "source": [
        "The missing values in the `borough` column have been treated. Let us now move on to `temp` variable and see how to deal with the missing values present there."
      ]
    },
    {
      "cell_type": "code",
      "source": [
        "uber_df.loc[uber_df['temp'].isnull() == True]"
      ],
      "metadata": {
        "id": "Wj7JEX_EOAoe",
        "colab": {
          "base_uri": "https://localhost:8080/",
          "height": 423
        },
        "outputId": "b7c51162-0540-4e5b-895a-66489e18fa81"
      },
      "execution_count": 32,
      "outputs": [
        {
          "output_type": "execute_result",
          "data": {
            "text/plain": [
              "               pickup_dt   borough  pickups  spd   vsb  temp  dewp     slp  \\\n",
              "1    2015-01-01 01:00:00  Brooklyn     1519  5.0  10.0   NaN   7.0  1023.5   \n",
              "8    2015-01-01 02:00:00  Brooklyn     1229  3.0  10.0   NaN   6.0  1023.0   \n",
              "15   2015-01-01 03:00:00  Brooklyn     1601  5.0  10.0   NaN   8.0  1022.3   \n",
              "22   2015-01-01 04:00:00  Brooklyn     1390  5.0  10.0   NaN   9.0  1022.0   \n",
              "29   2015-01-01 05:00:00  Brooklyn      759  5.0  10.0   NaN   9.0  1021.8   \n",
              "...                  ...       ...      ...  ...   ...   ...   ...     ...   \n",
              "2334 2015-01-15 19:00:00  Brooklyn      594  5.0  10.0   NaN  13.0  1016.2   \n",
              "2340 2015-01-15 20:00:00  Brooklyn      620  5.0  10.0   NaN  13.0  1015.5   \n",
              "2347 2015-01-15 21:00:00  Brooklyn      607  3.0  10.0   NaN  14.0  1015.4   \n",
              "2354 2015-01-15 22:00:00  Brooklyn      648  9.0  10.0   NaN  14.0  1015.4   \n",
              "2361 2015-01-15 23:00:00  Brooklyn      602  5.0  10.0   NaN  16.0  1015.4   \n",
              "\n",
              "      pcp01  pcp06  pcp24   sd hday  start_year start_month  start_hour  \\\n",
              "1       0.0    0.0    0.0  0.0    Y        2015     January           1   \n",
              "8       0.0    0.0    0.0  0.0    Y        2015     January           2   \n",
              "15      0.0    0.0    0.0  0.0    Y        2015     January           3   \n",
              "22      0.0    0.0    0.0  0.0    Y        2015     January           4   \n",
              "29      0.0    0.0    0.0  0.0    Y        2015     January           5   \n",
              "...     ...    ...    ...  ...  ...         ...         ...         ...   \n",
              "2334    0.0    0.0    0.0  0.0    N        2015     January          19   \n",
              "2340    0.0    0.0    0.0  0.0    N        2015     January          20   \n",
              "2347    0.0    0.0    0.0  0.0    N        2015     January          21   \n",
              "2354    0.0    0.0    0.0  0.0    N        2015     January          22   \n",
              "2361    0.0    0.0    0.0  0.0    N        2015     January          23   \n",
              "\n",
              "      start_day  week_day  \n",
              "1             1  Thursday  \n",
              "8             1  Thursday  \n",
              "15            1  Thursday  \n",
              "22            1  Thursday  \n",
              "29            1  Thursday  \n",
              "...         ...       ...  \n",
              "2334         15  Thursday  \n",
              "2340         15  Thursday  \n",
              "2347         15  Thursday  \n",
              "2354         15  Thursday  \n",
              "2361         15  Thursday  \n",
              "\n",
              "[359 rows x 18 columns]"
            ],
            "text/html": [
              "\n",
              "  <div id=\"df-22f6854d-560f-47a9-a18b-bbb51783ba32\">\n",
              "    <div class=\"colab-df-container\">\n",
              "      <div>\n",
              "<style scoped>\n",
              "    .dataframe tbody tr th:only-of-type {\n",
              "        vertical-align: middle;\n",
              "    }\n",
              "\n",
              "    .dataframe tbody tr th {\n",
              "        vertical-align: top;\n",
              "    }\n",
              "\n",
              "    .dataframe thead th {\n",
              "        text-align: right;\n",
              "    }\n",
              "</style>\n",
              "<table border=\"1\" class=\"dataframe\">\n",
              "  <thead>\n",
              "    <tr style=\"text-align: right;\">\n",
              "      <th></th>\n",
              "      <th>pickup_dt</th>\n",
              "      <th>borough</th>\n",
              "      <th>pickups</th>\n",
              "      <th>spd</th>\n",
              "      <th>vsb</th>\n",
              "      <th>temp</th>\n",
              "      <th>dewp</th>\n",
              "      <th>slp</th>\n",
              "      <th>pcp01</th>\n",
              "      <th>pcp06</th>\n",
              "      <th>pcp24</th>\n",
              "      <th>sd</th>\n",
              "      <th>hday</th>\n",
              "      <th>start_year</th>\n",
              "      <th>start_month</th>\n",
              "      <th>start_hour</th>\n",
              "      <th>start_day</th>\n",
              "      <th>week_day</th>\n",
              "    </tr>\n",
              "  </thead>\n",
              "  <tbody>\n",
              "    <tr>\n",
              "      <th>1</th>\n",
              "      <td>2015-01-01 01:00:00</td>\n",
              "      <td>Brooklyn</td>\n",
              "      <td>1519</td>\n",
              "      <td>5.0</td>\n",
              "      <td>10.0</td>\n",
              "      <td>NaN</td>\n",
              "      <td>7.0</td>\n",
              "      <td>1023.5</td>\n",
              "      <td>0.0</td>\n",
              "      <td>0.0</td>\n",
              "      <td>0.0</td>\n",
              "      <td>0.0</td>\n",
              "      <td>Y</td>\n",
              "      <td>2015</td>\n",
              "      <td>January</td>\n",
              "      <td>1</td>\n",
              "      <td>1</td>\n",
              "      <td>Thursday</td>\n",
              "    </tr>\n",
              "    <tr>\n",
              "      <th>8</th>\n",
              "      <td>2015-01-01 02:00:00</td>\n",
              "      <td>Brooklyn</td>\n",
              "      <td>1229</td>\n",
              "      <td>3.0</td>\n",
              "      <td>10.0</td>\n",
              "      <td>NaN</td>\n",
              "      <td>6.0</td>\n",
              "      <td>1023.0</td>\n",
              "      <td>0.0</td>\n",
              "      <td>0.0</td>\n",
              "      <td>0.0</td>\n",
              "      <td>0.0</td>\n",
              "      <td>Y</td>\n",
              "      <td>2015</td>\n",
              "      <td>January</td>\n",
              "      <td>2</td>\n",
              "      <td>1</td>\n",
              "      <td>Thursday</td>\n",
              "    </tr>\n",
              "    <tr>\n",
              "      <th>15</th>\n",
              "      <td>2015-01-01 03:00:00</td>\n",
              "      <td>Brooklyn</td>\n",
              "      <td>1601</td>\n",
              "      <td>5.0</td>\n",
              "      <td>10.0</td>\n",
              "      <td>NaN</td>\n",
              "      <td>8.0</td>\n",
              "      <td>1022.3</td>\n",
              "      <td>0.0</td>\n",
              "      <td>0.0</td>\n",
              "      <td>0.0</td>\n",
              "      <td>0.0</td>\n",
              "      <td>Y</td>\n",
              "      <td>2015</td>\n",
              "      <td>January</td>\n",
              "      <td>3</td>\n",
              "      <td>1</td>\n",
              "      <td>Thursday</td>\n",
              "    </tr>\n",
              "    <tr>\n",
              "      <th>22</th>\n",
              "      <td>2015-01-01 04:00:00</td>\n",
              "      <td>Brooklyn</td>\n",
              "      <td>1390</td>\n",
              "      <td>5.0</td>\n",
              "      <td>10.0</td>\n",
              "      <td>NaN</td>\n",
              "      <td>9.0</td>\n",
              "      <td>1022.0</td>\n",
              "      <td>0.0</td>\n",
              "      <td>0.0</td>\n",
              "      <td>0.0</td>\n",
              "      <td>0.0</td>\n",
              "      <td>Y</td>\n",
              "      <td>2015</td>\n",
              "      <td>January</td>\n",
              "      <td>4</td>\n",
              "      <td>1</td>\n",
              "      <td>Thursday</td>\n",
              "    </tr>\n",
              "    <tr>\n",
              "      <th>29</th>\n",
              "      <td>2015-01-01 05:00:00</td>\n",
              "      <td>Brooklyn</td>\n",
              "      <td>759</td>\n",
              "      <td>5.0</td>\n",
              "      <td>10.0</td>\n",
              "      <td>NaN</td>\n",
              "      <td>9.0</td>\n",
              "      <td>1021.8</td>\n",
              "      <td>0.0</td>\n",
              "      <td>0.0</td>\n",
              "      <td>0.0</td>\n",
              "      <td>0.0</td>\n",
              "      <td>Y</td>\n",
              "      <td>2015</td>\n",
              "      <td>January</td>\n",
              "      <td>5</td>\n",
              "      <td>1</td>\n",
              "      <td>Thursday</td>\n",
              "    </tr>\n",
              "    <tr>\n",
              "      <th>...</th>\n",
              "      <td>...</td>\n",
              "      <td>...</td>\n",
              "      <td>...</td>\n",
              "      <td>...</td>\n",
              "      <td>...</td>\n",
              "      <td>...</td>\n",
              "      <td>...</td>\n",
              "      <td>...</td>\n",
              "      <td>...</td>\n",
              "      <td>...</td>\n",
              "      <td>...</td>\n",
              "      <td>...</td>\n",
              "      <td>...</td>\n",
              "      <td>...</td>\n",
              "      <td>...</td>\n",
              "      <td>...</td>\n",
              "      <td>...</td>\n",
              "      <td>...</td>\n",
              "    </tr>\n",
              "    <tr>\n",
              "      <th>2334</th>\n",
              "      <td>2015-01-15 19:00:00</td>\n",
              "      <td>Brooklyn</td>\n",
              "      <td>594</td>\n",
              "      <td>5.0</td>\n",
              "      <td>10.0</td>\n",
              "      <td>NaN</td>\n",
              "      <td>13.0</td>\n",
              "      <td>1016.2</td>\n",
              "      <td>0.0</td>\n",
              "      <td>0.0</td>\n",
              "      <td>0.0</td>\n",
              "      <td>0.0</td>\n",
              "      <td>N</td>\n",
              "      <td>2015</td>\n",
              "      <td>January</td>\n",
              "      <td>19</td>\n",
              "      <td>15</td>\n",
              "      <td>Thursday</td>\n",
              "    </tr>\n",
              "    <tr>\n",
              "      <th>2340</th>\n",
              "      <td>2015-01-15 20:00:00</td>\n",
              "      <td>Brooklyn</td>\n",
              "      <td>620</td>\n",
              "      <td>5.0</td>\n",
              "      <td>10.0</td>\n",
              "      <td>NaN</td>\n",
              "      <td>13.0</td>\n",
              "      <td>1015.5</td>\n",
              "      <td>0.0</td>\n",
              "      <td>0.0</td>\n",
              "      <td>0.0</td>\n",
              "      <td>0.0</td>\n",
              "      <td>N</td>\n",
              "      <td>2015</td>\n",
              "      <td>January</td>\n",
              "      <td>20</td>\n",
              "      <td>15</td>\n",
              "      <td>Thursday</td>\n",
              "    </tr>\n",
              "    <tr>\n",
              "      <th>2347</th>\n",
              "      <td>2015-01-15 21:00:00</td>\n",
              "      <td>Brooklyn</td>\n",
              "      <td>607</td>\n",
              "      <td>3.0</td>\n",
              "      <td>10.0</td>\n",
              "      <td>NaN</td>\n",
              "      <td>14.0</td>\n",
              "      <td>1015.4</td>\n",
              "      <td>0.0</td>\n",
              "      <td>0.0</td>\n",
              "      <td>0.0</td>\n",
              "      <td>0.0</td>\n",
              "      <td>N</td>\n",
              "      <td>2015</td>\n",
              "      <td>January</td>\n",
              "      <td>21</td>\n",
              "      <td>15</td>\n",
              "      <td>Thursday</td>\n",
              "    </tr>\n",
              "    <tr>\n",
              "      <th>2354</th>\n",
              "      <td>2015-01-15 22:00:00</td>\n",
              "      <td>Brooklyn</td>\n",
              "      <td>648</td>\n",
              "      <td>9.0</td>\n",
              "      <td>10.0</td>\n",
              "      <td>NaN</td>\n",
              "      <td>14.0</td>\n",
              "      <td>1015.4</td>\n",
              "      <td>0.0</td>\n",
              "      <td>0.0</td>\n",
              "      <td>0.0</td>\n",
              "      <td>0.0</td>\n",
              "      <td>N</td>\n",
              "      <td>2015</td>\n",
              "      <td>January</td>\n",
              "      <td>22</td>\n",
              "      <td>15</td>\n",
              "      <td>Thursday</td>\n",
              "    </tr>\n",
              "    <tr>\n",
              "      <th>2361</th>\n",
              "      <td>2015-01-15 23:00:00</td>\n",
              "      <td>Brooklyn</td>\n",
              "      <td>602</td>\n",
              "      <td>5.0</td>\n",
              "      <td>10.0</td>\n",
              "      <td>NaN</td>\n",
              "      <td>16.0</td>\n",
              "      <td>1015.4</td>\n",
              "      <td>0.0</td>\n",
              "      <td>0.0</td>\n",
              "      <td>0.0</td>\n",
              "      <td>0.0</td>\n",
              "      <td>N</td>\n",
              "      <td>2015</td>\n",
              "      <td>January</td>\n",
              "      <td>23</td>\n",
              "      <td>15</td>\n",
              "      <td>Thursday</td>\n",
              "    </tr>\n",
              "  </tbody>\n",
              "</table>\n",
              "<p>359 rows × 18 columns</p>\n",
              "</div>\n",
              "      <button class=\"colab-df-convert\" onclick=\"convertToInteractive('df-22f6854d-560f-47a9-a18b-bbb51783ba32')\"\n",
              "              title=\"Convert this dataframe to an interactive table.\"\n",
              "              style=\"display:none;\">\n",
              "        \n",
              "  <svg xmlns=\"http://www.w3.org/2000/svg\" height=\"24px\"viewBox=\"0 0 24 24\"\n",
              "       width=\"24px\">\n",
              "    <path d=\"M0 0h24v24H0V0z\" fill=\"none\"/>\n",
              "    <path d=\"M18.56 5.44l.94 2.06.94-2.06 2.06-.94-2.06-.94-.94-2.06-.94 2.06-2.06.94zm-11 1L8.5 8.5l.94-2.06 2.06-.94-2.06-.94L8.5 2.5l-.94 2.06-2.06.94zm10 10l.94 2.06.94-2.06 2.06-.94-2.06-.94-.94-2.06-.94 2.06-2.06.94z\"/><path d=\"M17.41 7.96l-1.37-1.37c-.4-.4-.92-.59-1.43-.59-.52 0-1.04.2-1.43.59L10.3 9.45l-7.72 7.72c-.78.78-.78 2.05 0 2.83L4 21.41c.39.39.9.59 1.41.59.51 0 1.02-.2 1.41-.59l7.78-7.78 2.81-2.81c.8-.78.8-2.07 0-2.86zM5.41 20L4 18.59l7.72-7.72 1.47 1.35L5.41 20z\"/>\n",
              "  </svg>\n",
              "      </button>\n",
              "      \n",
              "  <style>\n",
              "    .colab-df-container {\n",
              "      display:flex;\n",
              "      flex-wrap:wrap;\n",
              "      gap: 12px;\n",
              "    }\n",
              "\n",
              "    .colab-df-convert {\n",
              "      background-color: #E8F0FE;\n",
              "      border: none;\n",
              "      border-radius: 50%;\n",
              "      cursor: pointer;\n",
              "      display: none;\n",
              "      fill: #1967D2;\n",
              "      height: 32px;\n",
              "      padding: 0 0 0 0;\n",
              "      width: 32px;\n",
              "    }\n",
              "\n",
              "    .colab-df-convert:hover {\n",
              "      background-color: #E2EBFA;\n",
              "      box-shadow: 0px 1px 2px rgba(60, 64, 67, 0.3), 0px 1px 3px 1px rgba(60, 64, 67, 0.15);\n",
              "      fill: #174EA6;\n",
              "    }\n",
              "\n",
              "    [theme=dark] .colab-df-convert {\n",
              "      background-color: #3B4455;\n",
              "      fill: #D2E3FC;\n",
              "    }\n",
              "\n",
              "    [theme=dark] .colab-df-convert:hover {\n",
              "      background-color: #434B5C;\n",
              "      box-shadow: 0px 1px 3px 1px rgba(0, 0, 0, 0.15);\n",
              "      filter: drop-shadow(0px 1px 2px rgba(0, 0, 0, 0.3));\n",
              "      fill: #FFFFFF;\n",
              "    }\n",
              "  </style>\n",
              "\n",
              "      <script>\n",
              "        const buttonEl =\n",
              "          document.querySelector('#df-22f6854d-560f-47a9-a18b-bbb51783ba32 button.colab-df-convert');\n",
              "        buttonEl.style.display =\n",
              "          google.colab.kernel.accessAllowed ? 'block' : 'none';\n",
              "\n",
              "        async function convertToInteractive(key) {\n",
              "          const element = document.querySelector('#df-22f6854d-560f-47a9-a18b-bbb51783ba32');\n",
              "          const dataTable =\n",
              "            await google.colab.kernel.invokeFunction('convertToInteractive',\n",
              "                                                     [key], {});\n",
              "          if (!dataTable) return;\n",
              "\n",
              "          const docLinkHtml = 'Like what you see? Visit the ' +\n",
              "            '<a target=\"_blank\" href=https://colab.research.google.com/notebooks/data_table.ipynb>data table notebook</a>'\n",
              "            + ' to learn more about interactive tables.';\n",
              "          element.innerHTML = '';\n",
              "          dataTable['output_type'] = 'display_data';\n",
              "          await google.colab.output.renderOutput(dataTable, element);\n",
              "          const docLink = document.createElement('div');\n",
              "          docLink.innerHTML = docLinkHtml;\n",
              "          element.appendChild(docLink);\n",
              "        }\n",
              "      </script>\n",
              "    </div>\n",
              "  </div>\n",
              "  "
            ]
          },
          "metadata": {},
          "execution_count": 32
        }
      ]
    },
    {
      "cell_type": "code",
      "source": [
        "uber_df.loc[uber_df['temp'].isnull()==True,'borough'].value_counts()"
      ],
      "metadata": {
        "id": "2VrtByvmOtUk",
        "colab": {
          "base_uri": "https://localhost:8080/"
        },
        "outputId": "0a229ac1-79e7-493f-b5ad-9d7acec2504e"
      },
      "execution_count": 33,
      "outputs": [
        {
          "output_type": "execute_result",
          "data": {
            "text/plain": [
              "Brooklyn    359\n",
              "Name: borough, dtype: int64"
            ]
          },
          "metadata": {},
          "execution_count": 33
        }
      ]
    },
    {
      "cell_type": "code",
      "source": [
        "uber_df.loc[df['temp'].isnull()==True,'start_month'].value_counts()"
      ],
      "metadata": {
        "id": "AwLAXq11OvNS"
      },
      "execution_count": null,
      "outputs": []
    },
    {
      "cell_type": "code",
      "source": [
        "# why I could have missed these values/Reason for missing value\n",
        "\n",
        "# Error in my data collection\n",
        "# uber system issue for jan for brooklyn\n",
        "# \n",
        "\n",
        "# Intention --> not drop\n",
        "# \n"
      ],
      "metadata": {
        "id": "jwtMtKbXpNrM"
      },
      "execution_count": 34,
      "outputs": []
    },
    {
      "cell_type": "code",
      "source": [
        "# Fixing Temp\n",
        "uber_df['temp'] = uber_df['temp'].fillna(value = uber_df['temp'].mean())\n",
        "\n",
        "# \n",
        "uber_df['temp'] = uber_df['temp'].fillna(value = uber_df.loc[ (uber_df['start_month'] == 'January'),'temp'].mean())\n",
        "\n",
        "# (df['borough'] == 'Brooklyn') & \n",
        "# median\n"
      ],
      "metadata": {
        "id": "7VQJHPTFOrSX"
      },
      "execution_count": 35,
      "outputs": []
    },
    {
      "cell_type": "code",
      "execution_count": 36,
      "metadata": {
        "id": "2m8IEoKFGVoV",
        "colab": {
          "base_uri": "https://localhost:8080/"
        },
        "outputId": "3ef44b14-6cb4-4060-e2a2-ebac5acaa1ea"
      },
      "outputs": [
        {
          "output_type": "execute_result",
          "data": {
            "text/plain": [
              "pickup_dt      0\n",
              "borough        0\n",
              "pickups        0\n",
              "spd            0\n",
              "vsb            0\n",
              "temp           0\n",
              "dewp           0\n",
              "slp            0\n",
              "pcp01          0\n",
              "pcp06          0\n",
              "pcp24          0\n",
              "sd             0\n",
              "hday           0\n",
              "start_year     0\n",
              "start_month    0\n",
              "start_hour     0\n",
              "start_day      0\n",
              "week_day       0\n",
              "dtype: int64"
            ]
          },
          "metadata": {},
          "execution_count": 36
        }
      ],
      "source": [
        "# Checking the sum of null values across columns\n",
        "uber_df.isnull().sum()"
      ]
    },
    {
      "cell_type": "markdown",
      "source": [
        "### After doing so much hard work, we are now ready to do some exploratory analysis on the dataset. This is pretty common, where we need to spend some time cleaning and processing the data to make it useful for analysis. Else we will just get garbage insights 😬"
      ],
      "metadata": {
        "id": "2A1Q1rBUo2eJ"
      }
    },
    {
      "cell_type": "markdown",
      "metadata": {
        "id": "sZ4YtvWeCmMu"
      },
      "source": [
        "## <u>**Exploratory Data Analysis**</u>"
      ]
    },
    {
      "cell_type": "markdown",
      "metadata": {
        "id": "1v3duQ20G_PG"
      },
      "source": [
        "### **Univariate Analysis**"
      ]
    },
    {
      "cell_type": "code",
      "source": [
        "uber_df.head()"
      ],
      "metadata": {
        "id": "zz9jPNsW-iZL",
        "colab": {
          "base_uri": "https://localhost:8080/",
          "height": 206
        },
        "outputId": "fd0ad2f4-f717-4378-fe04-801dd63d3e48"
      },
      "execution_count": 37,
      "outputs": [
        {
          "output_type": "execute_result",
          "data": {
            "text/plain": [
              "            pickup_dt    borough  pickups  spd   vsb       temp  dewp     slp  \\\n",
              "0 2015-01-01 01:00:00      Bronx      152  5.0  10.0  30.000000   7.0  1023.5   \n",
              "1 2015-01-01 01:00:00   Brooklyn     1519  5.0  10.0  47.900019   7.0  1023.5   \n",
              "2 2015-01-01 01:00:00        EWR        0  5.0  10.0  30.000000   7.0  1023.5   \n",
              "3 2015-01-01 01:00:00  Manhattan     5258  5.0  10.0  30.000000   7.0  1023.5   \n",
              "4 2015-01-01 01:00:00     Queens      405  5.0  10.0  30.000000   7.0  1023.5   \n",
              "\n",
              "   pcp01  pcp06  pcp24   sd hday  start_year start_month  start_hour  \\\n",
              "0    0.0    0.0    0.0  0.0    Y        2015     January           1   \n",
              "1    0.0    0.0    0.0  0.0    Y        2015     January           1   \n",
              "2    0.0    0.0    0.0  0.0    Y        2015     January           1   \n",
              "3    0.0    0.0    0.0  0.0    Y        2015     January           1   \n",
              "4    0.0    0.0    0.0  0.0    Y        2015     January           1   \n",
              "\n",
              "   start_day  week_day  \n",
              "0          1  Thursday  \n",
              "1          1  Thursday  \n",
              "2          1  Thursday  \n",
              "3          1  Thursday  \n",
              "4          1  Thursday  "
            ],
            "text/html": [
              "\n",
              "  <div id=\"df-b363f819-0a7b-4d2d-8704-9f2ce9cd939c\">\n",
              "    <div class=\"colab-df-container\">\n",
              "      <div>\n",
              "<style scoped>\n",
              "    .dataframe tbody tr th:only-of-type {\n",
              "        vertical-align: middle;\n",
              "    }\n",
              "\n",
              "    .dataframe tbody tr th {\n",
              "        vertical-align: top;\n",
              "    }\n",
              "\n",
              "    .dataframe thead th {\n",
              "        text-align: right;\n",
              "    }\n",
              "</style>\n",
              "<table border=\"1\" class=\"dataframe\">\n",
              "  <thead>\n",
              "    <tr style=\"text-align: right;\">\n",
              "      <th></th>\n",
              "      <th>pickup_dt</th>\n",
              "      <th>borough</th>\n",
              "      <th>pickups</th>\n",
              "      <th>spd</th>\n",
              "      <th>vsb</th>\n",
              "      <th>temp</th>\n",
              "      <th>dewp</th>\n",
              "      <th>slp</th>\n",
              "      <th>pcp01</th>\n",
              "      <th>pcp06</th>\n",
              "      <th>pcp24</th>\n",
              "      <th>sd</th>\n",
              "      <th>hday</th>\n",
              "      <th>start_year</th>\n",
              "      <th>start_month</th>\n",
              "      <th>start_hour</th>\n",
              "      <th>start_day</th>\n",
              "      <th>week_day</th>\n",
              "    </tr>\n",
              "  </thead>\n",
              "  <tbody>\n",
              "    <tr>\n",
              "      <th>0</th>\n",
              "      <td>2015-01-01 01:00:00</td>\n",
              "      <td>Bronx</td>\n",
              "      <td>152</td>\n",
              "      <td>5.0</td>\n",
              "      <td>10.0</td>\n",
              "      <td>30.000000</td>\n",
              "      <td>7.0</td>\n",
              "      <td>1023.5</td>\n",
              "      <td>0.0</td>\n",
              "      <td>0.0</td>\n",
              "      <td>0.0</td>\n",
              "      <td>0.0</td>\n",
              "      <td>Y</td>\n",
              "      <td>2015</td>\n",
              "      <td>January</td>\n",
              "      <td>1</td>\n",
              "      <td>1</td>\n",
              "      <td>Thursday</td>\n",
              "    </tr>\n",
              "    <tr>\n",
              "      <th>1</th>\n",
              "      <td>2015-01-01 01:00:00</td>\n",
              "      <td>Brooklyn</td>\n",
              "      <td>1519</td>\n",
              "      <td>5.0</td>\n",
              "      <td>10.0</td>\n",
              "      <td>47.900019</td>\n",
              "      <td>7.0</td>\n",
              "      <td>1023.5</td>\n",
              "      <td>0.0</td>\n",
              "      <td>0.0</td>\n",
              "      <td>0.0</td>\n",
              "      <td>0.0</td>\n",
              "      <td>Y</td>\n",
              "      <td>2015</td>\n",
              "      <td>January</td>\n",
              "      <td>1</td>\n",
              "      <td>1</td>\n",
              "      <td>Thursday</td>\n",
              "    </tr>\n",
              "    <tr>\n",
              "      <th>2</th>\n",
              "      <td>2015-01-01 01:00:00</td>\n",
              "      <td>EWR</td>\n",
              "      <td>0</td>\n",
              "      <td>5.0</td>\n",
              "      <td>10.0</td>\n",
              "      <td>30.000000</td>\n",
              "      <td>7.0</td>\n",
              "      <td>1023.5</td>\n",
              "      <td>0.0</td>\n",
              "      <td>0.0</td>\n",
              "      <td>0.0</td>\n",
              "      <td>0.0</td>\n",
              "      <td>Y</td>\n",
              "      <td>2015</td>\n",
              "      <td>January</td>\n",
              "      <td>1</td>\n",
              "      <td>1</td>\n",
              "      <td>Thursday</td>\n",
              "    </tr>\n",
              "    <tr>\n",
              "      <th>3</th>\n",
              "      <td>2015-01-01 01:00:00</td>\n",
              "      <td>Manhattan</td>\n",
              "      <td>5258</td>\n",
              "      <td>5.0</td>\n",
              "      <td>10.0</td>\n",
              "      <td>30.000000</td>\n",
              "      <td>7.0</td>\n",
              "      <td>1023.5</td>\n",
              "      <td>0.0</td>\n",
              "      <td>0.0</td>\n",
              "      <td>0.0</td>\n",
              "      <td>0.0</td>\n",
              "      <td>Y</td>\n",
              "      <td>2015</td>\n",
              "      <td>January</td>\n",
              "      <td>1</td>\n",
              "      <td>1</td>\n",
              "      <td>Thursday</td>\n",
              "    </tr>\n",
              "    <tr>\n",
              "      <th>4</th>\n",
              "      <td>2015-01-01 01:00:00</td>\n",
              "      <td>Queens</td>\n",
              "      <td>405</td>\n",
              "      <td>5.0</td>\n",
              "      <td>10.0</td>\n",
              "      <td>30.000000</td>\n",
              "      <td>7.0</td>\n",
              "      <td>1023.5</td>\n",
              "      <td>0.0</td>\n",
              "      <td>0.0</td>\n",
              "      <td>0.0</td>\n",
              "      <td>0.0</td>\n",
              "      <td>Y</td>\n",
              "      <td>2015</td>\n",
              "      <td>January</td>\n",
              "      <td>1</td>\n",
              "      <td>1</td>\n",
              "      <td>Thursday</td>\n",
              "    </tr>\n",
              "  </tbody>\n",
              "</table>\n",
              "</div>\n",
              "      <button class=\"colab-df-convert\" onclick=\"convertToInteractive('df-b363f819-0a7b-4d2d-8704-9f2ce9cd939c')\"\n",
              "              title=\"Convert this dataframe to an interactive table.\"\n",
              "              style=\"display:none;\">\n",
              "        \n",
              "  <svg xmlns=\"http://www.w3.org/2000/svg\" height=\"24px\"viewBox=\"0 0 24 24\"\n",
              "       width=\"24px\">\n",
              "    <path d=\"M0 0h24v24H0V0z\" fill=\"none\"/>\n",
              "    <path d=\"M18.56 5.44l.94 2.06.94-2.06 2.06-.94-2.06-.94-.94-2.06-.94 2.06-2.06.94zm-11 1L8.5 8.5l.94-2.06 2.06-.94-2.06-.94L8.5 2.5l-.94 2.06-2.06.94zm10 10l.94 2.06.94-2.06 2.06-.94-2.06-.94-.94-2.06-.94 2.06-2.06.94z\"/><path d=\"M17.41 7.96l-1.37-1.37c-.4-.4-.92-.59-1.43-.59-.52 0-1.04.2-1.43.59L10.3 9.45l-7.72 7.72c-.78.78-.78 2.05 0 2.83L4 21.41c.39.39.9.59 1.41.59.51 0 1.02-.2 1.41-.59l7.78-7.78 2.81-2.81c.8-.78.8-2.07 0-2.86zM5.41 20L4 18.59l7.72-7.72 1.47 1.35L5.41 20z\"/>\n",
              "  </svg>\n",
              "      </button>\n",
              "      \n",
              "  <style>\n",
              "    .colab-df-container {\n",
              "      display:flex;\n",
              "      flex-wrap:wrap;\n",
              "      gap: 12px;\n",
              "    }\n",
              "\n",
              "    .colab-df-convert {\n",
              "      background-color: #E8F0FE;\n",
              "      border: none;\n",
              "      border-radius: 50%;\n",
              "      cursor: pointer;\n",
              "      display: none;\n",
              "      fill: #1967D2;\n",
              "      height: 32px;\n",
              "      padding: 0 0 0 0;\n",
              "      width: 32px;\n",
              "    }\n",
              "\n",
              "    .colab-df-convert:hover {\n",
              "      background-color: #E2EBFA;\n",
              "      box-shadow: 0px 1px 2px rgba(60, 64, 67, 0.3), 0px 1px 3px 1px rgba(60, 64, 67, 0.15);\n",
              "      fill: #174EA6;\n",
              "    }\n",
              "\n",
              "    [theme=dark] .colab-df-convert {\n",
              "      background-color: #3B4455;\n",
              "      fill: #D2E3FC;\n",
              "    }\n",
              "\n",
              "    [theme=dark] .colab-df-convert:hover {\n",
              "      background-color: #434B5C;\n",
              "      box-shadow: 0px 1px 3px 1px rgba(0, 0, 0, 0.15);\n",
              "      filter: drop-shadow(0px 1px 2px rgba(0, 0, 0, 0.3));\n",
              "      fill: #FFFFFF;\n",
              "    }\n",
              "  </style>\n",
              "\n",
              "      <script>\n",
              "        const buttonEl =\n",
              "          document.querySelector('#df-b363f819-0a7b-4d2d-8704-9f2ce9cd939c button.colab-df-convert');\n",
              "        buttonEl.style.display =\n",
              "          google.colab.kernel.accessAllowed ? 'block' : 'none';\n",
              "\n",
              "        async function convertToInteractive(key) {\n",
              "          const element = document.querySelector('#df-b363f819-0a7b-4d2d-8704-9f2ce9cd939c');\n",
              "          const dataTable =\n",
              "            await google.colab.kernel.invokeFunction('convertToInteractive',\n",
              "                                                     [key], {});\n",
              "          if (!dataTable) return;\n",
              "\n",
              "          const docLinkHtml = 'Like what you see? Visit the ' +\n",
              "            '<a target=\"_blank\" href=https://colab.research.google.com/notebooks/data_table.ipynb>data table notebook</a>'\n",
              "            + ' to learn more about interactive tables.';\n",
              "          element.innerHTML = '';\n",
              "          dataTable['output_type'] = 'display_data';\n",
              "          await google.colab.output.renderOutput(dataTable, element);\n",
              "          const docLink = document.createElement('div');\n",
              "          docLink.innerHTML = docLinkHtml;\n",
              "          element.appendChild(docLink);\n",
              "        }\n",
              "      </script>\n",
              "    </div>\n",
              "  </div>\n",
              "  "
            ]
          },
          "metadata": {},
          "execution_count": 37
        }
      ]
    },
    {
      "cell_type": "code",
      "source": [
        "# Setting the size of the plots inline\n",
        "sns.set(rc = {'figure.figsize': (11.7,6.27) })"
      ],
      "metadata": {
        "id": "okCAEhf99jG1"
      },
      "execution_count": 38,
      "outputs": []
    },
    {
      "cell_type": "code",
      "execution_count": 39,
      "metadata": {
        "id": "VO1I-bvmCmMx",
        "colab": {
          "base_uri": "https://localhost:8080/",
          "height": 408
        },
        "outputId": "a053e55e-f9c5-4da7-feb1-b77f3b0f9e92"
      },
      "outputs": [
        {
          "output_type": "display_data",
          "data": {
            "text/plain": [
              "<Figure size 842.4x451.44 with 1 Axes>"
            ],
            "image/png": "[encoded data removed]"
          },
          "metadata": {}
        }
      ],
      "source": [
        "# Getting the pickup distribution\n",
        "sns.histplot(data = uber_df, x = 'pickups')\n",
        "plt.show()"
      ]
    },
    {
      "cell_type": "code",
      "source": [
        "# Getting the box plot distribution of pickups\n",
        "sns.boxplot(data=uber_df,x='pickups')\n",
        "plt.show()"
      ],
      "metadata": {
        "id": "G4_Idjc19n8a",
        "colab": {
          "base_uri": "https://localhost:8080/",
          "height": 408
        },
        "outputId": "fb0bf6e9-d25f-4c4c-b94c-0d15448b1cfd"
      },
      "execution_count": 40,
      "outputs": [
        {
          "output_type": "display_data",
          "data": {
            "text/plain": [
              "<Figure size 842.4x451.44 with 1 Axes>"
            ],
            "image/png": "[encoded data removed]"
          },
          "metadata": {}
        }
      ]
    },
    {
      "cell_type": "markdown",
      "metadata": {
        "id": "e2kTj-A8CmNR"
      },
      "source": [
        "## **🧩 What did you observe ?** \n",
        "\n",
        "1.   Outliers present\n",
        "2.   Skewed\n",
        "3.   BiModal distribution\n",
        "\n"
      ]
    },
    {
      "cell_type": "markdown",
      "metadata": {
        "id": "sd8hv8JDCmM0"
      },
      "source": [
        "####  **Observations on Visibility**"
      ]
    },
    {
      "cell_type": "code",
      "execution_count": 41,
      "metadata": {
        "id": "OHBGv-xCCmM0",
        "colab": {
          "base_uri": "https://localhost:8080/",
          "height": 408
        },
        "outputId": "1ebb35fb-a775-415d-e20f-08a24cbb96a2"
      },
      "outputs": [
        {
          "output_type": "display_data",
          "data": {
            "text/plain": [
              "<Figure size 842.4x451.44 with 1 Axes>"
            ],
            "image/png": "[encoded data removed]"
          },
          "metadata": {}
        }
      ],
      "source": [
        "# Getting the visibility distribution\n",
        "sns.histplot(data=uber_df, x = 'vsb')\n",
        "plt.show()"
      ]
    },
    {
      "cell_type": "code",
      "source": [
        "# Getting the box plot distribution for visibility in miles\n",
        "sns.boxplot(data=uber_df, x = 'vsb')\n",
        "plt.show()"
      ],
      "metadata": {
        "id": "0DCpqAt_-QIV",
        "colab": {
          "base_uri": "https://localhost:8080/",
          "height": 408
        },
        "outputId": "115fb7dc-766f-41ff-83ce-5cdd3b56ce3a"
      },
      "execution_count": 42,
      "outputs": [
        {
          "output_type": "display_data",
          "data": {
            "text/plain": [
              "<Figure size 842.4x451.44 with 1 Axes>"
            ],
            "image/png": "[encoded data removed]"
          },
          "metadata": {}
        }
      ]
    },
    {
      "cell_type": "markdown",
      "metadata": {
        "id": "33WAZJh5AFJq"
      },
      "source": [
        "## **🧩 What did you observe ?** \n",
        "<br>\n",
        "<br>"
      ]
    },
    {
      "cell_type": "markdown",
      "metadata": {
        "id": "UnLx3-PfCmM2"
      },
      "source": [
        "### **Observations on Temperature**"
      ]
    },
    {
      "cell_type": "code",
      "execution_count": 43,
      "metadata": {
        "id": "Aw8IBdqSCmM3",
        "colab": {
          "base_uri": "https://localhost:8080/",
          "height": 799
        },
        "outputId": "8de081f9-6d2a-4191-cce3-de4da6fba347"
      },
      "outputs": [
        {
          "output_type": "display_data",
          "data": {
            "text/plain": [
              "<Figure size 842.4x451.44 with 1 Axes>"
            ],
            "image/png": "[encoded data removed]"
          },
          "metadata": {}
        },
        {
          "output_type": "display_data",
          "data": {
            "text/plain": [
              "<Figure size 842.4x451.44 with 1 Axes>"
            ],
            "image/png": "[encoded data removed]"
          },
          "metadata": {}
        }
      ],
      "source": [
        "sns.histplot(data=uber_df, x = 'temp')\n",
        "plt.show()\n",
        "sns.boxplot(data=uber_df,x = 'temp')\n",
        "plt.show()"
      ]
    },
    {
      "cell_type": "markdown",
      "metadata": {
        "id": "TIFXCawBAL-9"
      },
      "source": [
        "## **🧩 What did you observe ?** \n",
        "<br>\n",
        "<br>"
      ]
    },
    {
      "cell_type": "markdown",
      "metadata": {
        "id": "4j6Be5DuCmM5"
      },
      "source": [
        "#### **Observations on Dew point**"
      ]
    },
    {
      "cell_type": "code",
      "execution_count": 44,
      "metadata": {
        "id": "XQ_jLcXzCmM6",
        "colab": {
          "base_uri": "https://localhost:8080/",
          "height": 799
        },
        "outputId": "ee98c00d-850c-4bc3-8945-6e2b8e61e4fb"
      },
      "outputs": [
        {
          "output_type": "display_data",
          "data": {
            "text/plain": [
              "<Figure size 842.4x451.44 with 1 Axes>"
            ],
            "image/png": "[encoded data removed]"
          },
          "metadata": {}
        },
        {
          "output_type": "display_data",
          "data": {
            "text/plain": [
              "<Figure size 842.4x451.44 with 1 Axes>"
            ],
            "image/png": "[encoded data removed]"
          },
          "metadata": {}
        }
      ],
      "source": [
        "sns.histplot(data=uber_df,x='dewp')\n",
        "plt.show()\n",
        "sns.boxplot(data=uber_df,x='dewp')\n",
        "plt.show()"
      ]
    },
    {
      "cell_type": "markdown",
      "metadata": {
        "id": "LIEH_FyGAOGs"
      },
      "source": [
        "## **🧩 What did you observe ?** \n",
        "<br>\n",
        "<br>"
      ]
    },
    {
      "cell_type": "markdown",
      "metadata": {
        "id": "Rl6uU-UWCmM8"
      },
      "source": [
        "#### **Observations on Sea level pressure**"
      ]
    },
    {
      "cell_type": "code",
      "execution_count": 45,
      "metadata": {
        "id": "5vP2afNGCmM8",
        "colab": {
          "base_uri": "https://localhost:8080/",
          "height": 799
        },
        "outputId": "d3379f8f-ed60-4b10-8a88-66f44f7a74c3"
      },
      "outputs": [
        {
          "output_type": "display_data",
          "data": {
            "text/plain": [
              "<Figure size 842.4x451.44 with 1 Axes>"
            ],
            "image/png": "[encoded data removed]"
          },
          "metadata": {}
        },
        {
          "output_type": "display_data",
          "data": {
            "text/plain": [
              "<Figure size 842.4x451.44 with 1 Axes>"
            ],
            "image/png": "[encoded data removed]"
          },
          "metadata": {}
        }
      ],
      "source": [
        "sns.histplot(data=uber_df,x='slp')\n",
        "plt.show()\n",
        "sns.boxplot(data=uber_df,x='slp')\n",
        "plt.show()"
      ]
    },
    {
      "cell_type": "markdown",
      "metadata": {
        "id": "pMcUhKGzAThz"
      },
      "source": [
        "## **🧩 What did you observe ?** \n",
        "<br>\n",
        "<br>"
      ]
    },
    {
      "cell_type": "markdown",
      "metadata": {
        "id": "w-YtW4DJCmM_"
      },
      "source": [
        "###  **Observations on Liquid Precipitation (Rain)**"
      ]
    },
    {
      "cell_type": "markdown",
      "metadata": {
        "id": "STf8kh15CmM_"
      },
      "source": [
        "#### **1 hour liquid precipitation**"
      ]
    },
    {
      "cell_type": "code",
      "execution_count": 46,
      "metadata": {
        "id": "Nd4yBMjjCmNA",
        "colab": {
          "base_uri": "https://localhost:8080/",
          "height": 799
        },
        "outputId": "a1547afe-1bf3-416a-e744-c3b1a20df5b8"
      },
      "outputs": [
        {
          "output_type": "display_data",
          "data": {
            "text/plain": [
              "<Figure size 842.4x451.44 with 1 Axes>"
            ],
            "image/png": "[encoded data removed]"
          },
          "metadata": {}
        },
        {
          "output_type": "display_data",
          "data": {
            "text/plain": [
              "<Figure size 842.4x451.44 with 1 Axes>"
            ],
            "image/png": "[encoded data removed]"
          },
          "metadata": {}
        }
      ],
      "source": [
        "sns.histplot(data=uber_df,x='pcp01')\n",
        "plt.show()\n",
        "sns.boxplot(data=uber_df,x='pcp01')\n",
        "plt.show()"
      ]
    },
    {
      "cell_type": "markdown",
      "metadata": {
        "id": "y7ENb8-gAXvN"
      },
      "source": [
        "## **🧩 What did you observe ?** \n",
        "<br>\n",
        "<br>"
      ]
    },
    {
      "cell_type": "markdown",
      "metadata": {
        "id": "UzaDZD0zCmNB"
      },
      "source": [
        "#### **6 hour liquid precipitation**"
      ]
    },
    {
      "cell_type": "code",
      "execution_count": 47,
      "metadata": {
        "id": "4R71CEJdCmNC",
        "colab": {
          "base_uri": "https://localhost:8080/",
          "height": 799
        },
        "outputId": "79fd7401-f944-4124-f7ea-3c797cfd044a"
      },
      "outputs": [
        {
          "output_type": "display_data",
          "data": {
            "text/plain": [
              "<Figure size 842.4x451.44 with 1 Axes>"
            ],
            "image/png": "[encoded data removed]"
          },
          "metadata": {}
        },
        {
          "output_type": "display_data",
          "data": {
            "text/plain": [
              "<Figure size 842.4x451.44 with 1 Axes>"
            ],
            "image/png": "[encoded data removed]"
          },
          "metadata": {}
        }
      ],
      "source": [
        "sns.histplot(data=uber_df,x='pcp06')\n",
        "plt.show()\n",
        "sns.boxplot(data=uber_df,x='pcp06')\n",
        "plt.show()"
      ]
    },
    {
      "cell_type": "markdown",
      "metadata": {
        "id": "q0X5znMMCmNE"
      },
      "source": [
        "#### **24 hour liquid precipitation**"
      ]
    },
    {
      "cell_type": "code",
      "execution_count": 48,
      "metadata": {
        "id": "mHACRN4SCmNE",
        "colab": {
          "base_uri": "https://localhost:8080/",
          "height": 799
        },
        "outputId": "c3c7c089-3606-4eb2-8751-2d57d71ef344"
      },
      "outputs": [
        {
          "output_type": "display_data",
          "data": {
            "text/plain": [
              "<Figure size 842.4x451.44 with 1 Axes>"
            ],
            "image/png": "[encoded data removed]"
          },
          "metadata": {}
        },
        {
          "output_type": "display_data",
          "data": {
            "text/plain": [
              "<Figure size 842.4x451.44 with 1 Axes>"
            ],
            "image/png": "[encoded data removed]"
          },
          "metadata": {}
        }
      ],
      "source": [
        "sns.histplot(data=uber_df,x='pcp24')\n",
        "plt.show()\n",
        "sns.boxplot(data=uber_df,x='pcp24')\n",
        "plt.show()"
      ]
    },
    {
      "cell_type": "markdown",
      "metadata": {
        "id": "h_SsZ6S-AaZk"
      },
      "source": [
        "## **🧩 What did you observe ?** \n",
        "<br>\n",
        "<br>"
      ]
    },
    {
      "cell_type": "markdown",
      "metadata": {
        "id": "cO94S55DCmNG"
      },
      "source": [
        "### **Observations on Snow Depth**"
      ]
    },
    {
      "cell_type": "code",
      "execution_count": 49,
      "metadata": {
        "id": "VAFWTAueCmNH",
        "colab": {
          "base_uri": "https://localhost:8080/",
          "height": 799
        },
        "outputId": "05533af8-5f0a-4ead-c501-183985c8b7bb"
      },
      "outputs": [
        {
          "output_type": "display_data",
          "data": {
            "text/plain": [
              "<Figure size 842.4x451.44 with 1 Axes>"
            ],
            "image/png": "[encoded data removed]"
          },
          "metadata": {}
        },
        {
          "output_type": "display_data",
          "data": {
            "text/plain": [
              "<Figure size 842.4x451.44 with 1 Axes>"
            ],
            "image/png": "[encoded data removed]"
          },
          "metadata": {}
        }
      ],
      "source": [
        "sns.histplot(data=uber_df,x='sd')\n",
        "plt.show()\n",
        "sns.boxplot(data=uber_df,x='sd')\n",
        "plt.show()"
      ]
    },
    {
      "cell_type": "markdown",
      "metadata": {
        "id": "Zm4ItASQAdQB"
      },
      "source": [
        "## **🧩 What did you observe ?** \n",
        "<br>\n",
        "<br>"
      ]
    },
    {
      "cell_type": "markdown",
      "metadata": {
        "id": "YS0zRpcHCmNK"
      },
      "source": [
        "### **Let's explore the categorical variables now**"
      ]
    },
    {
      "cell_type": "markdown",
      "metadata": {
        "id": "Rz5intsrCmNM"
      },
      "source": [
        "#### **Observations on holiday**"
      ]
    },
    {
      "cell_type": "code",
      "execution_count": 50,
      "metadata": {
        "id": "Qek29sNdCmNM",
        "colab": {
          "base_uri": "https://localhost:8080/",
          "height": 426
        },
        "outputId": "b58183f5-3693-4af4-8295-83b5a1f14bf5"
      },
      "outputs": [
        {
          "output_type": "execute_result",
          "data": {
            "text/plain": [
              "<matplotlib.axes._subplots.AxesSubplot at 0x7ffa74709d60>"
            ]
          },
          "metadata": {},
          "execution_count": 50
        },
        {
          "output_type": "display_data",
          "data": {
            "text/plain": [
              "<Figure size 842.4x451.44 with 1 Axes>"
            ],
            "image/png": "[encoded data removed]"
          },
          "metadata": {}
        }
      ],
      "source": [
        "# Getting the distribution for holiday variable\n",
        "sns.countplot(data=uber_df, x='hday')"
      ]
    },
    {
      "cell_type": "code",
      "source": [
        "# It is not always a compulsory step to go and draw a viz chart\n",
        "# when a table info has given "
      ],
      "metadata": {
        "id": "iCCwFTkvtX-V"
      },
      "execution_count": 51,
      "outputs": []
    },
    {
      "cell_type": "markdown",
      "metadata": {
        "id": "7wmu0EKwAghW"
      },
      "source": [
        "## **🧩 What did you observe ?** \n",
        "<br>\n",
        "<br>"
      ]
    },
    {
      "cell_type": "markdown",
      "metadata": {
        "id": "gCoGf5viCmNO"
      },
      "source": [
        "### **Observations on borough**"
      ]
    },
    {
      "cell_type": "code",
      "execution_count": 53,
      "metadata": {
        "id": "cjZtXHrUCmNO",
        "colab": {
          "base_uri": "https://localhost:8080/",
          "height": 471
        },
        "outputId": "084a67cb-722e-46c8-e277-382819bf68c8"
      },
      "outputs": [
        {
          "output_type": "display_data",
          "data": {
            "text/plain": [
              "<Figure size 842.4x451.44 with 1 Axes>"
            ],
            "image/png": "[encoded data removed]"
          },
          "metadata": {}
        }
      ],
      "source": [
        "sns.countplot(data=uber_df,x='borough');\n",
        "plt.xticks(rotation = 90);"
      ]
    },
    {
      "cell_type": "markdown",
      "metadata": {
        "id": "a3FosXODCmNS"
      },
      "source": [
        "## <u> **Bivariate Analysis**"
      ]
    },
    {
      "cell_type": "markdown",
      "source": [
        "### Bi means two and variate means variable, so here there are two variables. The analysis is related to the relationship between the two variables.\n",
        "\n"
      ],
      "metadata": {
        "id": "gSDIdIOxY7Zk"
      }
    },
    {
      "cell_type": "code",
      "source": [
        "#Num-Num\n",
        "#Num-Cat\n",
        "#Cat-Cat"
      ],
      "metadata": {
        "id": "X-wrLaRxtsLD"
      },
      "execution_count": 54,
      "outputs": []
    },
    {
      "cell_type": "markdown",
      "metadata": {
        "id": "ycVCmopBCmNT"
      },
      "source": [
        "## **Correlation by Heatmap**"
      ]
    },
    {
      "cell_type": "code",
      "source": [
        "# Check for correlation among numerical variables\n",
        "num_var = ['pickups','spd','vsb','temp','dewp', 'slp','pcp01', 'pcp06', 'pcp24', 'sd']\n",
        "corr = uber_df[num_var].corr()\n",
        "corr\n",
        "\n",
        "# -1 to 1\n",
        "# 1: positive\n",
        "# -1: negative"
      ],
      "metadata": {
        "id": "CA9QbX2EAMVk",
        "colab": {
          "base_uri": "https://localhost:8080/",
          "height": 363
        },
        "outputId": "0eeb6e90-8794-46fa-8dd2-8f00f1a555eb"
      },
      "execution_count": 55,
      "outputs": [
        {
          "output_type": "execute_result",
          "data": {
            "text/plain": [
              "          pickups       spd       vsb      temp      dewp       slp     pcp01  \\\n",
              "pickups  1.000000  0.011103 -0.007484  0.054146  0.033456 -0.015011  0.004406   \n",
              "spd      0.011103  1.000000  0.089056 -0.291805 -0.321730 -0.091698 -0.000250   \n",
              "vsb     -0.007484  0.089056  1.000000  0.026400 -0.232188  0.165451 -0.487121   \n",
              "temp     0.054146 -0.291805  0.026400  1.000000  0.889635 -0.213800 -0.014114   \n",
              "dewp     0.033456 -0.321730 -0.232188  0.889635  1.000000 -0.310104  0.115585   \n",
              "slp     -0.015011 -0.091698  0.165451 -0.213800 -0.310104  1.000000 -0.088466   \n",
              "pcp01    0.004406 -0.000250 -0.487121 -0.014114  0.115585 -0.088466  1.000000   \n",
              "pcp06   -0.002909  0.016266 -0.117681 -0.039662  0.012435 -0.103059  0.126185   \n",
              "pcp24   -0.020219 -0.010563  0.000323 -0.016387  0.001250 -0.133964  0.001017   \n",
              "sd      -0.008241  0.097919 -0.048110 -0.558519 -0.492485  0.123538 -0.000974   \n",
              "\n",
              "            pcp06     pcp24        sd  \n",
              "pickups -0.002909 -0.020219 -0.008241  \n",
              "spd      0.016266 -0.010563  0.097919  \n",
              "vsb     -0.117681  0.000323 -0.048110  \n",
              "temp    -0.039662 -0.016387 -0.558519  \n",
              "dewp     0.012435  0.001250 -0.492485  \n",
              "slp     -0.103059 -0.133964  0.123538  \n",
              "pcp01    0.126185  0.001017 -0.000974  \n",
              "pcp06    1.000000  0.253583  0.040092  \n",
              "pcp24    0.253583  1.000000  0.070604  \n",
              "sd       0.040092  0.070604  1.000000  "
            ],
            "text/html": [
              "\n",
              "  <div id=\"df-e15fec45-c019-4afd-82a8-3ad385c3a016\">\n",
              "    <div class=\"colab-df-container\">\n",
              "      <div>\n",
              "<style scoped>\n",
              "    .dataframe tbody tr th:only-of-type {\n",
              "        vertical-align: middle;\n",
              "    }\n",
              "\n",
              "    .dataframe tbody tr th {\n",
              "        vertical-align: top;\n",
              "    }\n",
              "\n",
              "    .dataframe thead th {\n",
              "        text-align: right;\n",
              "    }\n",
              "</style>\n",
              "<table border=\"1\" class=\"dataframe\">\n",
              "  <thead>\n",
              "    <tr style=\"text-align: right;\">\n",
              "      <th></th>\n",
              "      <th>pickups</th>\n",
              "      <th>spd</th>\n",
              "      <th>vsb</th>\n",
              "      <th>temp</th>\n",
              "      <th>dewp</th>\n",
              "      <th>slp</th>\n",
              "      <th>pcp01</th>\n",
              "      <th>pcp06</th>\n",
              "      <th>pcp24</th>\n",
              "      <th>sd</th>\n",
              "    </tr>\n",
              "  </thead>\n",
              "  <tbody>\n",
              "    <tr>\n",
              "      <th>pickups</th>\n",
              "      <td>1.000000</td>\n",
              "      <td>0.011103</td>\n",
              "      <td>-0.007484</td>\n",
              "      <td>0.054146</td>\n",
              "      <td>0.033456</td>\n",
              "      <td>-0.015011</td>\n",
              "      <td>0.004406</td>\n",
              "      <td>-0.002909</td>\n",
              "      <td>-0.020219</td>\n",
              "      <td>-0.008241</td>\n",
              "    </tr>\n",
              "    <tr>\n",
              "      <th>spd</th>\n",
              "      <td>0.011103</td>\n",
              "      <td>1.000000</td>\n",
              "      <td>0.089056</td>\n",
              "      <td>-0.291805</td>\n",
              "      <td>-0.321730</td>\n",
              "      <td>-0.091698</td>\n",
              "      <td>-0.000250</td>\n",
              "      <td>0.016266</td>\n",
              "      <td>-0.010563</td>\n",
              "      <td>0.097919</td>\n",
              "    </tr>\n",
              "    <tr>\n",
              "      <th>vsb</th>\n",
              "      <td>-0.007484</td>\n",
              "      <td>0.089056</td>\n",
              "      <td>1.000000</td>\n",
              "      <td>0.026400</td>\n",
              "      <td>-0.232188</td>\n",
              "      <td>0.165451</td>\n",
              "      <td>-0.487121</td>\n",
              "      <td>-0.117681</td>\n",
              "      <td>0.000323</td>\n",
              "      <td>-0.048110</td>\n",
              "    </tr>\n",
              "    <tr>\n",
              "      <th>temp</th>\n",
              "      <td>0.054146</td>\n",
              "      <td>-0.291805</td>\n",
              "      <td>0.026400</td>\n",
              "      <td>1.000000</td>\n",
              "      <td>0.889635</td>\n",
              "      <td>-0.213800</td>\n",
              "      <td>-0.014114</td>\n",
              "      <td>-0.039662</td>\n",
              "      <td>-0.016387</td>\n",
              "      <td>-0.558519</td>\n",
              "    </tr>\n",
              "    <tr>\n",
              "      <th>dewp</th>\n",
              "      <td>0.033456</td>\n",
              "      <td>-0.321730</td>\n",
              "      <td>-0.232188</td>\n",
              "      <td>0.889635</td>\n",
              "      <td>1.000000</td>\n",
              "      <td>-0.310104</td>\n",
              "      <td>0.115585</td>\n",
              "      <td>0.012435</td>\n",
              "      <td>0.001250</td>\n",
              "      <td>-0.492485</td>\n",
              "    </tr>\n",
              "    <tr>\n",
              "      <th>slp</th>\n",
              "      <td>-0.015011</td>\n",
              "      <td>-0.091698</td>\n",
              "      <td>0.165451</td>\n",
              "      <td>-0.213800</td>\n",
              "      <td>-0.310104</td>\n",
              "      <td>1.000000</td>\n",
              "      <td>-0.088466</td>\n",
              "      <td>-0.103059</td>\n",
              "      <td>-0.133964</td>\n",
              "      <td>0.123538</td>\n",
              "    </tr>\n",
              "    <tr>\n",
              "      <th>pcp01</th>\n",
              "      <td>0.004406</td>\n",
              "      <td>-0.000250</td>\n",
              "      <td>-0.487121</td>\n",
              "      <td>-0.014114</td>\n",
              "      <td>0.115585</td>\n",
              "      <td>-0.088466</td>\n",
              "      <td>1.000000</td>\n",
              "      <td>0.126185</td>\n",
              "      <td>0.001017</td>\n",
              "      <td>-0.000974</td>\n",
              "    </tr>\n",
              "    <tr>\n",
              "      <th>pcp06</th>\n",
              "      <td>-0.002909</td>\n",
              "      <td>0.016266</td>\n",
              "      <td>-0.117681</td>\n",
              "      <td>-0.039662</td>\n",
              "      <td>0.012435</td>\n",
              "      <td>-0.103059</td>\n",
              "      <td>0.126185</td>\n",
              "      <td>1.000000</td>\n",
              "      <td>0.253583</td>\n",
              "      <td>0.040092</td>\n",
              "    </tr>\n",
              "    <tr>\n",
              "      <th>pcp24</th>\n",
              "      <td>-0.020219</td>\n",
              "      <td>-0.010563</td>\n",
              "      <td>0.000323</td>\n",
              "      <td>-0.016387</td>\n",
              "      <td>0.001250</td>\n",
              "      <td>-0.133964</td>\n",
              "      <td>0.001017</td>\n",
              "      <td>0.253583</td>\n",
              "      <td>1.000000</td>\n",
              "      <td>0.070604</td>\n",
              "    </tr>\n",
              "    <tr>\n",
              "      <th>sd</th>\n",
              "      <td>-0.008241</td>\n",
              "      <td>0.097919</td>\n",
              "      <td>-0.048110</td>\n",
              "      <td>-0.558519</td>\n",
              "      <td>-0.492485</td>\n",
              "      <td>0.123538</td>\n",
              "      <td>-0.000974</td>\n",
              "      <td>0.040092</td>\n",
              "      <td>0.070604</td>\n",
              "      <td>1.000000</td>\n",
              "    </tr>\n",
              "  </tbody>\n",
              "</table>\n",
              "</div>\n",
              "      <button class=\"colab-df-convert\" onclick=\"convertToInteractive('df-e15fec45-c019-4afd-82a8-3ad385c3a016')\"\n",
              "              title=\"Convert this dataframe to an interactive table.\"\n",
              "              style=\"display:none;\">\n",
              "        \n",
              "  <svg xmlns=\"http://www.w3.org/2000/svg\" height=\"24px\"viewBox=\"0 0 24 24\"\n",
              "       width=\"24px\">\n",
              "    <path d=\"M0 0h24v24H0V0z\" fill=\"none\"/>\n",
              "    <path d=\"M18.56 5.44l.94 2.06.94-2.06 2.06-.94-2.06-.94-.94-2.06-.94 2.06-2.06.94zm-11 1L8.5 8.5l.94-2.06 2.06-.94-2.06-.94L8.5 2.5l-.94 2.06-2.06.94zm10 10l.94 2.06.94-2.06 2.06-.94-2.06-.94-.94-2.06-.94 2.06-2.06.94z\"/><path d=\"M17.41 7.96l-1.37-1.37c-.4-.4-.92-.59-1.43-.59-.52 0-1.04.2-1.43.59L10.3 9.45l-7.72 7.72c-.78.78-.78 2.05 0 2.83L4 21.41c.39.39.9.59 1.41.59.51 0 1.02-.2 1.41-.59l7.78-7.78 2.81-2.81c.8-.78.8-2.07 0-2.86zM5.41 20L4 18.59l7.72-7.72 1.47 1.35L5.41 20z\"/>\n",
              "  </svg>\n",
              "      </button>\n",
              "      \n",
              "  <style>\n",
              "    .colab-df-container {\n",
              "      display:flex;\n",
              "      flex-wrap:wrap;\n",
              "      gap: 12px;\n",
              "    }\n",
              "\n",
              "    .colab-df-convert {\n",
              "      background-color: #E8F0FE;\n",
              "      border: none;\n",
              "      border-radius: 50%;\n",
              "      cursor: pointer;\n",
              "      display: none;\n",
              "      fill: #1967D2;\n",
              "      height: 32px;\n",
              "      padding: 0 0 0 0;\n",
              "      width: 32px;\n",
              "    }\n",
              "\n",
              "    .colab-df-convert:hover {\n",
              "      background-color: #E2EBFA;\n",
              "      box-shadow: 0px 1px 2px rgba(60, 64, 67, 0.3), 0px 1px 3px 1px rgba(60, 64, 67, 0.15);\n",
              "      fill: #174EA6;\n",
              "    }\n",
              "\n",
              "    [theme=dark] .colab-df-convert {\n",
              "      background-color: #3B4455;\n",
              "      fill: #D2E3FC;\n",
              "    }\n",
              "\n",
              "    [theme=dark] .colab-df-convert:hover {\n",
              "      background-color: #434B5C;\n",
              "      box-shadow: 0px 1px 3px 1px rgba(0, 0, 0, 0.15);\n",
              "      filter: drop-shadow(0px 1px 2px rgba(0, 0, 0, 0.3));\n",
              "      fill: #FFFFFF;\n",
              "    }\n",
              "  </style>\n",
              "\n",
              "      <script>\n",
              "        const buttonEl =\n",
              "          document.querySelector('#df-e15fec45-c019-4afd-82a8-3ad385c3a016 button.colab-df-convert');\n",
              "        buttonEl.style.display =\n",
              "          google.colab.kernel.accessAllowed ? 'block' : 'none';\n",
              "\n",
              "        async function convertToInteractive(key) {\n",
              "          const element = document.querySelector('#df-e15fec45-c019-4afd-82a8-3ad385c3a016');\n",
              "          const dataTable =\n",
              "            await google.colab.kernel.invokeFunction('convertToInteractive',\n",
              "                                                     [key], {});\n",
              "          if (!dataTable) return;\n",
              "\n",
              "          const docLinkHtml = 'Like what you see? Visit the ' +\n",
              "            '<a target=\"_blank\" href=https://colab.research.google.com/notebooks/data_table.ipynb>data table notebook</a>'\n",
              "            + ' to learn more about interactive tables.';\n",
              "          element.innerHTML = '';\n",
              "          dataTable['output_type'] = 'display_data';\n",
              "          await google.colab.output.renderOutput(dataTable, element);\n",
              "          const docLink = document.createElement('div');\n",
              "          docLink.innerHTML = docLinkHtml;\n",
              "          element.appendChild(docLink);\n",
              "        }\n",
              "      </script>\n",
              "    </div>\n",
              "  </div>\n",
              "  "
            ]
          },
          "metadata": {},
          "execution_count": 55
        }
      ]
    },
    {
      "cell_type": "code",
      "execution_count": 56,
      "metadata": {
        "id": "0ri8U0CvCmNT",
        "colab": {
          "base_uri": "https://localhost:8080/",
          "height": 435
        },
        "outputId": "3f63464d-7629-4cf6-ff5b-fe42d6da0222"
      },
      "outputs": [
        {
          "output_type": "display_data",
          "data": {
            "text/plain": [
              "<Figure size 1080x504 with 2 Axes>"
            ],
            "image/png": "[encoded data removed]"
          },
          "metadata": {}
        }
      ],
      "source": [
        "# plot the heatmap\n",
        "plt.figure(figsize=(15, 7))\n",
        "sns.heatmap(corr, annot=True, vmin=-1, vmax=1, fmt=\".2f\", cmap=\"RdYlGn\") # Spectral\n",
        "plt.show()"
      ]
    },
    {
      "cell_type": "markdown",
      "metadata": {
        "id": "T2Czw3MdAz34"
      },
      "source": [
        "## **🧩 What did you observe ?** \n",
        "<br>\n",
        "<br>"
      ]
    },
    {
      "cell_type": "markdown",
      "metadata": {
        "id": "j4mXq9oyCmNV"
      },
      "source": [
        "### **Bivariate Scatter Plots**"
      ]
    },
    {
      "cell_type": "code",
      "execution_count": 57,
      "metadata": {
        "id": "gpSzyZF8CmNW"
      },
      "outputs": [],
      "source": [
        "# # Plotting the scatter plots for all numeric variables\n",
        "# sns.pairplot(data=uber_df[num_var], diag_kind=\"kde\")\n",
        "# plt.show()"
      ]
    },
    {
      "cell_type": "markdown",
      "metadata": {
        "id": "01N8yCnaBGps"
      },
      "source": [
        "## **🧩 What did you observe ?** \n",
        "<br>\n",
        "<br>"
      ]
    },
    {
      "cell_type": "markdown",
      "metadata": {
        "id": "bSZgpRq4CmNZ"
      },
      "source": [
        "#### Now let's check the trend between pickups across different time based variables"
      ]
    },
    {
      "cell_type": "markdown",
      "metadata": {
        "id": "uuwDETWqCmNZ"
      },
      "source": [
        "### **Pickups across months**"
      ]
    },
    {
      "cell_type": "code",
      "execution_count": 58,
      "metadata": {
        "id": "84a95LhQCmNc",
        "colab": {
          "base_uri": "https://localhost:8080/",
          "height": 448
        },
        "outputId": "04f3e803-21c1-4e4a-fd4c-8d490e66711f"
      },
      "outputs": [
        {
          "output_type": "display_data",
          "data": {
            "text/plain": [
              "<Figure size 1080x504 with 1 Axes>"
            ],
            "image/png": "[encoded data removed]"
          },
          "metadata": {}
        }
      ],
      "source": [
        "# Understanding the trend of pickups across months\n",
        "cats = uber_df.start_month.unique().tolist()\n",
        "uber_df.start_month = pd.Categorical(uber_df.start_month, ordered=True, categories=cats)\n",
        "\n",
        "plt.figure(figsize=(15,7))\n",
        "sns.lineplot(data=uber_df, x=\"start_month\", y=\"pickups\", ci=False, color=\"red\", estimator='mean')\n",
        "plt.ylabel('Total pickups')\n",
        "plt.xlabel('Month')\n",
        "plt.show()"
      ]
    },
    {
      "cell_type": "markdown",
      "metadata": {
        "id": "V4uOpvi9BWKE"
      },
      "source": [
        "## **🧩 What did you observe ?** \n",
        "<br>\n",
        "<br>"
      ]
    },
    {
      "cell_type": "markdown",
      "metadata": {
        "id": "58KoBSudCmNe"
      },
      "source": [
        "#### **Pickups vs Days of the Month**"
      ]
    },
    {
      "cell_type": "code",
      "execution_count": 59,
      "metadata": {
        "id": "XWPJsTjTCmNe",
        "colab": {
          "base_uri": "https://localhost:8080/",
          "height": 448
        },
        "outputId": "3d7b6516-0ccc-4b94-a44d-aa42bd5fc9ee"
      },
      "outputs": [
        {
          "output_type": "display_data",
          "data": {
            "text/plain": [
              "<Figure size 1080x504 with 1 Axes>"
            ],
            "image/png": "[encoded data removed]"
          },
          "metadata": {}
        }
      ],
      "source": [
        "plt.figure(figsize=(15,7))\n",
        "sns.lineplot(data=uber_df, x=\"start_day\", y=\"pickups\", estimator='sum', ci=False, color=\"red\")\n",
        "plt.ylabel('Total pickups')\n",
        "plt.xlabel('Day of Month')\n",
        "plt.show()"
      ]
    },
    {
      "cell_type": "code",
      "source": [
        "plt.figure(figsize=(15,7))\n",
        "sns.lineplot(data=uber_df, x=\"start_day\", y=\"pickups\", estimator='mean', ci=False, color=\"red\")\n",
        "plt.ylabel('Total pickups')\n",
        "plt.xlabel('Day of Month')\n",
        "plt.show()"
      ],
      "metadata": {
        "id": "rCjR23aBBei7",
        "colab": {
          "base_uri": "https://localhost:8080/",
          "height": 448
        },
        "outputId": "bc05c844-e7b6-4704-a40a-9c8abf58c363"
      },
      "execution_count": 60,
      "outputs": [
        {
          "output_type": "display_data",
          "data": {
            "text/plain": [
              "<Figure size 1080x504 with 1 Axes>"
            ],
            "image/png": "[encoded data removed]"
          },
          "metadata": {}
        }
      ]
    },
    {
      "cell_type": "markdown",
      "metadata": {
        "id": "PwYyZRaRBbDP"
      },
      "source": [
        "## **🧩 What did you observe ?** \n",
        "<br>\n",
        "<br>"
      ]
    },
    {
      "cell_type": "markdown",
      "metadata": {
        "id": "m4Dgmr6NCmNm"
      },
      "source": [
        "#### **Pickups across Hours of the Day**"
      ]
    },
    {
      "cell_type": "code",
      "execution_count": 61,
      "metadata": {
        "id": "lGiJxX5bCmNm",
        "colab": {
          "base_uri": "https://localhost:8080/",
          "height": 448
        },
        "outputId": "dac04838-9a9e-42eb-88aa-7d0ab61eacc5"
      },
      "outputs": [
        {
          "output_type": "display_data",
          "data": {
            "text/plain": [
              "<Figure size 1080x504 with 1 Axes>"
            ],
            "image/png": "[encoded data removed]"
          },
          "metadata": {}
        }
      ],
      "source": [
        "plt.figure(figsize=(15,7))\n",
        "sns.lineplot(data=uber_df, x=\"start_hour\", y=\"pickups\", estimator='mean', ci=False, color=\"red\")\n",
        "plt.ylabel('Total pickups')\n",
        "plt.xlabel('Hour of the day')\n",
        "plt.show()"
      ]
    },
    {
      "cell_type": "markdown",
      "metadata": {
        "id": "YY6wuOTCBlrb"
      },
      "source": [
        "## **🧩 What did you observe ?** \n",
        "<br>\n",
        "<br>"
      ]
    },
    {
      "cell_type": "markdown",
      "metadata": {
        "id": "OF3neJO9CmNo"
      },
      "source": [
        "### **What is the trend of Pickups across Weekdays**"
      ]
    },
    {
      "cell_type": "code",
      "execution_count": 62,
      "metadata": {
        "id": "gYFgSHzbCmNo",
        "colab": {
          "base_uri": "https://localhost:8080/",
          "height": 459
        },
        "outputId": "ec04e514-c8c0-4f97-a22b-97d15ec960ec"
      },
      "outputs": [
        {
          "output_type": "display_data",
          "data": {
            "text/plain": [
              "<Figure size 1080x504 with 1 Axes>"
            ],
            "image/png": "[encoded data removed]"
          },
          "metadata": {}
        }
      ],
      "source": [
        "# Getting the trend of pickups across weekdays\n",
        "cats = ['Monday', 'Tuesday', 'Wednesday','Thursday', 'Friday', 'Saturday', 'Sunday']\n",
        "uber_df.week_day = pd.Categorical(uber_df.week_day, ordered=True, categories=cats)\n",
        "\n",
        "plt.figure(figsize=(15,7))\n",
        "sns.lineplot(data=uber_df, x=\"week_day\", y=\"pickups\", ci=False, color=\"red\", estimator='sum')\n",
        "plt.ylabel('Total pickups')\n",
        "plt.xlabel('Weeks')\n",
        "plt.show()"
      ]
    },
    {
      "cell_type": "markdown",
      "metadata": {
        "id": "9bht2Y4HB0Zv"
      },
      "source": [
        "## **🧩 What did you observe ?** \n",
        "<br>\n",
        "<br>"
      ]
    },
    {
      "cell_type": "markdown",
      "metadata": {
        "id": "_t3JKMhEQMLL"
      },
      "source": [
        "### **Outlier Detection and Treatment**"
      ]
    },
    {
      "cell_type": "code",
      "execution_count": 63,
      "metadata": {
        "id": "aRgwsT0fQe9i",
        "colab": {
          "base_uri": "https://localhost:8080/",
          "height": 833
        },
        "outputId": "a4e81cdc-2127-4c1c-9c0c-62bff2b25016"
      },
      "outputs": [
        {
          "output_type": "display_data",
          "data": {
            "text/plain": [
              "<Figure size 1440x1080 with 10 Axes>"
            ],
            "image/png": "[encoded data removed]"
          },
          "metadata": {}
        }
      ],
      "source": [
        "# outlier detection using boxplot\n",
        "# selecting the numerical columns of data and adding their names in a list \n",
        "numeric_columns = ['pickups','spd','vsb','temp','dewp', 'slp','pcp01', 'pcp06', 'pcp24', 'sd']\n",
        "plt.figure(figsize=(20, 15))\n",
        "\n",
        "for i, variable in enumerate(numeric_columns):\n",
        "    plt.subplot(4, 4, i + 1)\n",
        "    plt.boxplot(uber_df[variable], whis=1.5)\n",
        "    plt.tight_layout()\n",
        "    plt.title(variable)\n",
        "\n",
        "plt.show()"
      ]
    },
    {
      "cell_type": "code",
      "source": [
        "# Bivariate\n",
        "sns.boxplot(data = uber_df, y='pickups', x='borough');\n",
        "\n",
        "# Num-Cat"
      ],
      "metadata": {
        "colab": {
          "base_uri": "https://localhost:8080/",
          "height": 408
        },
        "id": "2dXdRyjRw9Ui",
        "outputId": "df3f17d0-ab7a-4ab7-c874-46d143a75546"
      },
      "execution_count": 64,
      "outputs": [
        {
          "output_type": "display_data",
          "data": {
            "text/plain": [
              "<Figure size 842.4x451.44 with 1 Axes>"
            ],
            "image/png": "[encoded data removed]"
          },
          "metadata": {}
        }
      ]
    },
    {
      "cell_type": "markdown",
      "metadata": {
        "id": "lBEkgbBOCNX7"
      },
      "source": [
        "## **🧩 What did you observe ?** \n",
        "<br>\n",
        "<br>"
      ]
    },
    {
      "cell_type": "markdown",
      "metadata": {
        "id": "a3wP1oR53up6"
      },
      "source": [
        "## **Insights**\n",
        "\n",
        "1. Popular in Manhattan\n",
        "2. Rides are high during 8-10am, 7pm\n",
        "3. not so great during winter\n",
        "4. trend increasing from jan to june\n",
        "5. saturdays rides are high\n",
        "6. brooklyn\n",
        "\n",
        "\n"
      ]
    },
    {
      "cell_type": "markdown",
      "source": [
        "## **Recommendations**\n"
      ],
      "metadata": {
        "id": "jE42qFTn5215"
      }
    }
  ],
  "metadata": {
    "colab": {
      "provenance": [],
      "include_colab_link": true
    },
    "kernelspec": {
      "display_name": "Python 3",
      "language": "python",
      "name": "python3"
    },
    "language_info": {
      "codemirror_mode": {
        "name": "ipython",
        "version": 3
      },
      "file_extension": ".py",
      "mimetype": "text/x-python",
      "name": "python",
      "nbconvert_exporter": "python",
      "pygments_lexer": "ipython3",
      "version": "3.8.5"
    },
    "toc": {
      "base_numbering": 1,
      "nav_menu": {},
      "number_sections": true,
      "sideBar": true,
      "skip_h1_title": false,
      "title_cell": "Table of Contents",
      "title_sidebar": "Contents",
      "toc_cell": false,
      "toc_position": {},
      "toc_section_display": true,
      "toc_window_display": false
    }
  },
  "nbformat": 4,
  "nbformat_minor": 0
}